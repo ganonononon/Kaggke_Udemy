{
  "nbformat": 4,
  "nbformat_minor": 0,
  "metadata": {
    "colab": {
      "provenance": [],
      "mount_file_id": "1f5SkHjtFyYeqce0sQCUO7URIakMSR_Rx",
      "authorship_tag": "ABX9TyNlnVQ/lWFPnngqK6D6aGh/",
      "include_colab_link": true
    },
    "kernelspec": {
      "name": "python3",
      "display_name": "Python 3"
    },
    "language_info": {
      "name": "python"
    }
  },
  "cells": [
    {
      "cell_type": "markdown",
      "metadata": {
        "id": "view-in-github",
        "colab_type": "text"
      },
      "source": [
        "<a href=\"https://colab.research.google.com/github/ganonononon/Kaggke_Udemy/blob/main/UdemyKaggle_Numpy.ipynb\" target=\"_parent\"><img src=\"https://colab.research.google.com/assets/colab-badge.svg\" alt=\"Open In Colab\"/></a>"
      ]
    },
    {
      "cell_type": "code",
      "source": [
        "import sklearn"
      ],
      "metadata": {
        "id": "mN7TGq64BFhi"
      },
      "execution_count": 122,
      "outputs": []
    },
    {
      "cell_type": "code",
      "source": [
        "print(sklearn.__version__)"
      ],
      "metadata": {
        "colab": {
          "base_uri": "https://localhost:8080/"
        },
        "id": "Msj548wVrcPz",
        "outputId": "0e731d6c-235d-4668-8555-360b73320863"
      },
      "execution_count": 123,
      "outputs": [
        {
          "output_type": "stream",
          "name": "stdout",
          "text": [
            "1.6.1\n"
          ]
        }
      ]
    },
    {
      "cell_type": "markdown",
      "source": [
        "# Numpy ndarrayを理解する\n",
        "\n",
        "\n",
        "Numpy:\"Numerical Python\"、数値計算、配列計算を高速で実行できるパッケージ"
      ],
      "metadata": {
        "id": "XJSG4Nmhs2sG"
      }
    },
    {
      "cell_type": "code",
      "source": [
        "import numpy as np"
      ],
      "metadata": {
        "id": "FIfsTbIMso2p"
      },
      "execution_count": 124,
      "outputs": []
    },
    {
      "cell_type": "markdown",
      "source": [
        "Listとndarrayを作成"
      ],
      "metadata": {
        "id": "O4krNQuUthe5"
      }
    },
    {
      "cell_type": "code",
      "source": [
        "arr1 = [1,3,5]\n",
        "arr2 = [2,4,6]\n",
        "arr1"
      ],
      "metadata": {
        "colab": {
          "base_uri": "https://localhost:8080/"
        },
        "id": "IDpx1JFwtcFF",
        "outputId": "a56ce675-a767-467a-b71d-1c048160a989"
      },
      "execution_count": 125,
      "outputs": [
        {
          "output_type": "execute_result",
          "data": {
            "text/plain": [
              "[1, 3, 5]"
            ]
          },
          "metadata": {},
          "execution_count": 125
        }
      ]
    },
    {
      "cell_type": "code",
      "source": [
        "#Numpy ndaary\n",
        "np_arr1 = np.array(arr1)\n",
        "np_arr2 = np.array(arr2)\n",
        "np_arr1"
      ],
      "metadata": {
        "colab": {
          "base_uri": "https://localhost:8080/"
        },
        "id": "FP3yHetvtqUZ",
        "outputId": "571c1aed-11c4-4426-eff9-8d6c73757b2f"
      },
      "execution_count": 126,
      "outputs": [
        {
          "output_type": "execute_result",
          "data": {
            "text/plain": [
              "array([1, 3, 5])"
            ]
          },
          "metadata": {},
          "execution_count": 126
        }
      ]
    },
    {
      "cell_type": "code",
      "source": [
        "np_arr2"
      ],
      "metadata": {
        "colab": {
          "base_uri": "https://localhost:8080/"
        },
        "id": "cRnK3sRht2D4",
        "outputId": "af56e591-2543-410f-957c-3505d6f00c02"
      },
      "execution_count": 127,
      "outputs": [
        {
          "output_type": "execute_result",
          "data": {
            "text/plain": [
              "array([2, 4, 6])"
            ]
          },
          "metadata": {},
          "execution_count": 127
        }
      ]
    },
    {
      "cell_type": "markdown",
      "source": [
        "型(タイプ)を確認"
      ],
      "metadata": {
        "id": "7oB8XMpruTS6"
      }
    },
    {
      "cell_type": "code",
      "source": [
        "print(type(arr1))\n",
        "print(type(np_arr1))"
      ],
      "metadata": {
        "colab": {
          "base_uri": "https://localhost:8080/"
        },
        "id": "4UMW98yqt5tu",
        "outputId": "40d08b84-c450-499a-8cfb-962139a381e6"
      },
      "execution_count": 128,
      "outputs": [
        {
          "output_type": "stream",
          "name": "stdout",
          "text": [
            "<class 'list'>\n",
            "<class 'numpy.ndarray'>\n"
          ]
        }
      ]
    },
    {
      "cell_type": "markdown",
      "source": [
        "Numpy ndarrayのデータタイプ(Numpy ndarrayでは全ての要素のデータタイプが統一される)"
      ],
      "metadata": {
        "id": "fPN3VOruvUQ1"
      }
    },
    {
      "cell_type": "code",
      "source": [
        "np_arr1.dtype"
      ],
      "metadata": {
        "colab": {
          "base_uri": "https://localhost:8080/"
        },
        "id": "PL94SDLevJ0e",
        "outputId": "3edb5781-30d6-4412-87c3-fbe593cf8017"
      },
      "execution_count": 129,
      "outputs": [
        {
          "output_type": "execute_result",
          "data": {
            "text/plain": [
              "dtype('int64')"
            ]
          },
          "metadata": {},
          "execution_count": 129
        }
      ]
    },
    {
      "cell_type": "code",
      "source": [
        "#arr1.dtype"
      ],
      "metadata": {
        "id": "OVZoDjjevlkl"
      },
      "execution_count": 130,
      "outputs": []
    },
    {
      "cell_type": "markdown",
      "source": [
        "NumpyArrayの演算例\n",
        "\n",
        "最大値、最小値、平均値、合計(全要素に対する)"
      ],
      "metadata": {
        "id": "cHY9qLBWviNh"
      }
    },
    {
      "cell_type": "code",
      "source": [
        "np_arr1 * 2"
      ],
      "metadata": {
        "colab": {
          "base_uri": "https://localhost:8080/"
        },
        "id": "cVRDh94Dvfl1",
        "outputId": "4e7afb6c-c26d-4da4-c9db-5ffa58b0dd29"
      },
      "execution_count": 131,
      "outputs": [
        {
          "output_type": "execute_result",
          "data": {
            "text/plain": [
              "array([ 2,  6, 10])"
            ]
          },
          "metadata": {},
          "execution_count": 131
        }
      ]
    },
    {
      "cell_type": "code",
      "source": [
        "np_arr1 + np_arr2"
      ],
      "metadata": {
        "colab": {
          "base_uri": "https://localhost:8080/"
        },
        "id": "Xypj7DWJxpNM",
        "outputId": "f6e7eeb6-06ac-4b93-e27b-dcd028957d50"
      },
      "execution_count": 132,
      "outputs": [
        {
          "output_type": "execute_result",
          "data": {
            "text/plain": [
              "array([ 3,  7, 11])"
            ]
          },
          "metadata": {},
          "execution_count": 132
        }
      ]
    },
    {
      "cell_type": "code",
      "source": [
        "np_arr1 * np_arr2"
      ],
      "metadata": {
        "colab": {
          "base_uri": "https://localhost:8080/"
        },
        "id": "xblzVzc-xvUo",
        "outputId": "f57b0d92-1ec5-4cf7-faaa-b7cf0800c871"
      },
      "execution_count": 133,
      "outputs": [
        {
          "output_type": "execute_result",
          "data": {
            "text/plain": [
              "array([ 2, 12, 30])"
            ]
          },
          "metadata": {},
          "execution_count": 133
        }
      ]
    },
    {
      "cell_type": "markdown",
      "source": [
        "NumpyArrayの\n",
        "\n",
        "最大値、最小値、平均値、合計,\n",
        "分散、標準偏差(全要素に対する)"
      ],
      "metadata": {
        "id": "MYCmbZrzxyd5"
      }
    },
    {
      "cell_type": "code",
      "source": [
        "np_arr1.min()"
      ],
      "metadata": {
        "colab": {
          "base_uri": "https://localhost:8080/"
        },
        "id": "olBC-7hdx81L",
        "outputId": "a38bcc48-5546-4cb3-d5e1-63372bc5a1b7"
      },
      "execution_count": 134,
      "outputs": [
        {
          "output_type": "execute_result",
          "data": {
            "text/plain": [
              "1"
            ]
          },
          "metadata": {},
          "execution_count": 134
        }
      ]
    },
    {
      "cell_type": "code",
      "source": [
        "np_arr1.max()"
      ],
      "metadata": {
        "colab": {
          "base_uri": "https://localhost:8080/"
        },
        "id": "MeNB0mUDx_Fs",
        "outputId": "6452d23a-27bb-463b-ea01-095889639831"
      },
      "execution_count": 135,
      "outputs": [
        {
          "output_type": "execute_result",
          "data": {
            "text/plain": [
              "5"
            ]
          },
          "metadata": {},
          "execution_count": 135
        }
      ]
    },
    {
      "cell_type": "code",
      "source": [
        "np_arr1.mean()"
      ],
      "metadata": {
        "colab": {
          "base_uri": "https://localhost:8080/"
        },
        "id": "yeh9fVohyDKK",
        "outputId": "3405995e-29c1-405a-b592-a52ff27f79f2"
      },
      "execution_count": 136,
      "outputs": [
        {
          "output_type": "execute_result",
          "data": {
            "text/plain": [
              "3.0"
            ]
          },
          "metadata": {},
          "execution_count": 136
        }
      ]
    },
    {
      "cell_type": "code",
      "source": [
        "np_arr1.sum()"
      ],
      "metadata": {
        "colab": {
          "base_uri": "https://localhost:8080/"
        },
        "id": "o4tFFSvkyFeW",
        "outputId": "e569284e-d5b9-4954-e0b6-396c9f6984ad"
      },
      "execution_count": 137,
      "outputs": [
        {
          "output_type": "execute_result",
          "data": {
            "text/plain": [
              "9"
            ]
          },
          "metadata": {},
          "execution_count": 137
        }
      ]
    },
    {
      "cell_type": "code",
      "source": [
        "np_arr1.var()"
      ],
      "metadata": {
        "colab": {
          "base_uri": "https://localhost:8080/"
        },
        "id": "h6-pTCuwyHa4",
        "outputId": "5d1d26bb-30bf-491b-d424-b1e6cabc8fb0"
      },
      "execution_count": 138,
      "outputs": [
        {
          "output_type": "execute_result",
          "data": {
            "text/plain": [
              "2.6666666666666665"
            ]
          },
          "metadata": {},
          "execution_count": 138
        }
      ]
    },
    {
      "cell_type": "code",
      "source": [
        "np_arr1.std()"
      ],
      "metadata": {
        "colab": {
          "base_uri": "https://localhost:8080/"
        },
        "id": "6bT0B_YGyJQp",
        "outputId": "201fa274-1a5f-4745-ba81-0cf62063586f"
      },
      "execution_count": 139,
      "outputs": [
        {
          "output_type": "execute_result",
          "data": {
            "text/plain": [
              "1.632993161855452"
            ]
          },
          "metadata": {},
          "execution_count": 139
        }
      ]
    },
    {
      "cell_type": "markdown",
      "source": [
        "ファンシーインデックス"
      ],
      "metadata": {
        "id": "JBwcUB8GyUYc"
      }
    },
    {
      "cell_type": "code",
      "source": [
        "arr3 = [[0,100], [200,300]]\n",
        "np_arr3 = np.array(arr3)"
      ],
      "metadata": {
        "id": "sCT4VfPqyLHe"
      },
      "execution_count": 140,
      "outputs": []
    },
    {
      "cell_type": "code",
      "source": [
        "arr3[0][1]"
      ],
      "metadata": {
        "colab": {
          "base_uri": "https://localhost:8080/"
        },
        "id": "TWpFoWIZygW4",
        "outputId": "5f8b7438-3887-4b49-bea5-eeae1e39a633"
      },
      "execution_count": 141,
      "outputs": [
        {
          "output_type": "execute_result",
          "data": {
            "text/plain": [
              "100"
            ]
          },
          "metadata": {},
          "execution_count": 141
        }
      ]
    },
    {
      "cell_type": "code",
      "source": [
        "np_arr3[1][1]"
      ],
      "metadata": {
        "colab": {
          "base_uri": "https://localhost:8080/"
        },
        "id": "5wmwjJ21ynsT",
        "outputId": "a89ee3c6-e79d-4b7d-c0d2-6f45e51dc6c4"
      },
      "execution_count": 142,
      "outputs": [
        {
          "output_type": "execute_result",
          "data": {
            "text/plain": [
              "300"
            ]
          },
          "metadata": {},
          "execution_count": 142
        }
      ]
    },
    {
      "cell_type": "code",
      "source": [
        "np_arr3[0,1]"
      ],
      "metadata": {
        "colab": {
          "base_uri": "https://localhost:8080/"
        },
        "id": "RXlKf9JuytCU",
        "outputId": "1a80c7ea-975e-4e17-906c-f8c9e5743470"
      },
      "execution_count": 143,
      "outputs": [
        {
          "output_type": "execute_result",
          "data": {
            "text/plain": [
              "100"
            ]
          },
          "metadata": {},
          "execution_count": 143
        }
      ]
    },
    {
      "cell_type": "code",
      "source": [
        "np_arr3"
      ],
      "metadata": {
        "colab": {
          "base_uri": "https://localhost:8080/"
        },
        "id": "-Q_sLLy7yvXA",
        "outputId": "f7aadc90-5ecb-4aa1-d7e6-5590cf1da84a"
      },
      "execution_count": 144,
      "outputs": [
        {
          "output_type": "execute_result",
          "data": {
            "text/plain": [
              "array([[  0, 100],\n",
              "       [200, 300]])"
            ]
          },
          "metadata": {},
          "execution_count": 144
        }
      ]
    },
    {
      "cell_type": "markdown",
      "source": [
        "Numpy ndarrayは各次元の要素の形状を一定に"
      ],
      "metadata": {
        "id": "238CQnxiy_gV"
      }
    },
    {
      "cell_type": "code",
      "source": [
        "arr4 = [0,[100,200], [300,400,500]]"
      ],
      "metadata": {
        "id": "AHQlCokjy9Lt"
      },
      "execution_count": 145,
      "outputs": []
    },
    {
      "cell_type": "code",
      "source": [
        "#np.array(arr4)"
      ],
      "metadata": {
        "id": "qYwjJ9FyzLCO"
      },
      "execution_count": 146,
      "outputs": []
    },
    {
      "cell_type": "code",
      "source": [
        "arr5 = [[0,[1,2],[3,[4,5]]]]\n",
        "#np.array(arr5)"
      ],
      "metadata": {
        "id": "x8ecMh2AzO24"
      },
      "execution_count": 147,
      "outputs": []
    },
    {
      "cell_type": "markdown",
      "source": [
        "Numpy ndarrayのデータタイプ変換"
      ],
      "metadata": {
        "id": "pdLuPHBMzq9k"
      }
    },
    {
      "cell_type": "code",
      "source": [
        "np.array(arr5, dtype=object)"
      ],
      "metadata": {
        "colab": {
          "base_uri": "https://localhost:8080/"
        },
        "id": "wIx159tbzedk",
        "outputId": "09647bb5-4955-49ff-985f-64ca597763ca"
      },
      "execution_count": 148,
      "outputs": [
        {
          "output_type": "execute_result",
          "data": {
            "text/plain": [
              "array([[0, list([1, 2]), list([3, [4, 5]])]], dtype=object)"
            ]
          },
          "metadata": {},
          "execution_count": 148
        }
      ]
    },
    {
      "cell_type": "code",
      "source": [
        "arr6 = [0,1,2.0], [3,4,5]\n",
        "np_arr6 = np.array(arr6)\n",
        "np_arr6"
      ],
      "metadata": {
        "colab": {
          "base_uri": "https://localhost:8080/"
        },
        "id": "UafjAVMm03U5",
        "outputId": "958659dd-2b82-4dcf-ed8d-d894a087bdf1"
      },
      "execution_count": 149,
      "outputs": [
        {
          "output_type": "execute_result",
          "data": {
            "text/plain": [
              "array([[0., 1., 2.],\n",
              "       [3., 4., 5.]])"
            ]
          },
          "metadata": {},
          "execution_count": 149
        }
      ]
    },
    {
      "cell_type": "code",
      "source": [
        "np_arr6.dtype"
      ],
      "metadata": {
        "colab": {
          "base_uri": "https://localhost:8080/"
        },
        "id": "sVnHMfq11IOH",
        "outputId": "415841b4-d1dc-4835-d803-ed02e2e7b38e"
      },
      "execution_count": 150,
      "outputs": [
        {
          "output_type": "execute_result",
          "data": {
            "text/plain": [
              "dtype('float64')"
            ]
          },
          "metadata": {},
          "execution_count": 150
        }
      ]
    },
    {
      "cell_type": "code",
      "source": [
        "np_arr6 = np_arr6.astype(int)"
      ],
      "metadata": {
        "id": "kddtnqyw1Nvi"
      },
      "execution_count": 151,
      "outputs": []
    },
    {
      "cell_type": "code",
      "source": [
        "np_arr6.dtype"
      ],
      "metadata": {
        "colab": {
          "base_uri": "https://localhost:8080/"
        },
        "id": "5z2k9PqS1rXF",
        "outputId": "9e669bfe-6af8-4785-8e9a-a6938787c227"
      },
      "execution_count": 152,
      "outputs": [
        {
          "output_type": "execute_result",
          "data": {
            "text/plain": [
              "dtype('int64')"
            ]
          },
          "metadata": {},
          "execution_count": 152
        }
      ]
    },
    {
      "cell_type": "code",
      "source": [
        "arr7 = [[0,1,'2'], [3,4,5]]\n",
        "np_arr7 = np.array(arr7)\n",
        "np_arr7.dtype"
      ],
      "metadata": {
        "colab": {
          "base_uri": "https://localhost:8080/"
        },
        "id": "Uf5CFh3t1tlJ",
        "outputId": "e9bd4fc4-0799-46a4-88bf-8d39b6bc14ce"
      },
      "execution_count": 153,
      "outputs": [
        {
          "output_type": "execute_result",
          "data": {
            "text/plain": [
              "dtype('<U21')"
            ]
          },
          "metadata": {},
          "execution_count": 153
        }
      ]
    },
    {
      "cell_type": "code",
      "source": [
        "np_arr7.astype(int).dtype"
      ],
      "metadata": {
        "colab": {
          "base_uri": "https://localhost:8080/"
        },
        "id": "0F9orlLH2A0E",
        "outputId": "fdf7d8c4-e9ad-48f6-d862-ae0ef1f653ae"
      },
      "execution_count": 154,
      "outputs": [
        {
          "output_type": "execute_result",
          "data": {
            "text/plain": [
              "dtype('int64')"
            ]
          },
          "metadata": {},
          "execution_count": 154
        }
      ]
    },
    {
      "cell_type": "code",
      "source": [
        "np_arr7.astype(object).dtype"
      ],
      "metadata": {
        "colab": {
          "base_uri": "https://localhost:8080/"
        },
        "id": "I29ht-ph2RXz",
        "outputId": "3fb225b3-58f8-4a37-9235-7eca3ead8724"
      },
      "execution_count": 155,
      "outputs": [
        {
          "output_type": "execute_result",
          "data": {
            "text/plain": [
              "dtype('O')"
            ]
          },
          "metadata": {},
          "execution_count": 155
        }
      ]
    },
    {
      "cell_type": "code",
      "source": [
        "#np_arr7.astype(str).dtype"
      ],
      "metadata": {
        "id": "_w9wX9do2Xb7"
      },
      "execution_count": 156,
      "outputs": []
    },
    {
      "cell_type": "markdown",
      "source": [
        "Numpyの関数で等差数列を作成\n",
        "\n",
        "\n",
        "\n",
        "*   np.arrange(start, stop, step):範囲と数値の幅から作成\n",
        "*   np.lispace(start,stop,size):範囲と生成数から作成\n",
        "\n"
      ],
      "metadata": {
        "id": "-qN0UWI64Le2"
      }
    },
    {
      "cell_type": "markdown",
      "source": [
        "np.arrange(start, stop, step):範囲と数値の幅から作成"
      ],
      "metadata": {
        "id": "6cSJ1O2I4lq-"
      }
    },
    {
      "cell_type": "code",
      "source": [
        "np.arange(8)\n",
        "#start 0, stop 1"
      ],
      "metadata": {
        "colab": {
          "base_uri": "https://localhost:8080/"
        },
        "id": "D1d6TdnU2cnG",
        "outputId": "57da254f-d2eb-4e54-a6cf-6379533c322e"
      },
      "execution_count": 157,
      "outputs": [
        {
          "output_type": "execute_result",
          "data": {
            "text/plain": [
              "array([0, 1, 2, 3, 4, 5, 6, 7])"
            ]
          },
          "metadata": {},
          "execution_count": 157
        }
      ]
    },
    {
      "cell_type": "code",
      "source": [
        "np.arange(0,8,1)\n",
        "#stopは含まない"
      ],
      "metadata": {
        "colab": {
          "base_uri": "https://localhost:8080/"
        },
        "id": "6O2JkCzk4uED",
        "outputId": "e424bbce-cc8d-4045-dc79-225cd55571a4"
      },
      "execution_count": 158,
      "outputs": [
        {
          "output_type": "execute_result",
          "data": {
            "text/plain": [
              "array([0, 1, 2, 3, 4, 5, 6, 7])"
            ]
          },
          "metadata": {},
          "execution_count": 158
        }
      ]
    },
    {
      "cell_type": "code",
      "source": [
        "np.arange(-5,5,2)"
      ],
      "metadata": {
        "colab": {
          "base_uri": "https://localhost:8080/"
        },
        "id": "6rJtuOkB4z0C",
        "outputId": "076f9cd5-d15a-4523-aa2d-56d779a5cfe8"
      },
      "execution_count": 159,
      "outputs": [
        {
          "output_type": "execute_result",
          "data": {
            "text/plain": [
              "array([-5, -3, -1,  1,  3])"
            ]
          },
          "metadata": {},
          "execution_count": 159
        }
      ]
    },
    {
      "cell_type": "code",
      "source": [
        "np.arange(0,6.1,0.5)"
      ],
      "metadata": {
        "colab": {
          "base_uri": "https://localhost:8080/"
        },
        "id": "IDxfJbgG5NU7",
        "outputId": "fa4b7c4f-d6fb-419e-eb7e-fada3bfc873c"
      },
      "execution_count": 160,
      "outputs": [
        {
          "output_type": "execute_result",
          "data": {
            "text/plain": [
              "array([0. , 0.5, 1. , 1.5, 2. , 2.5, 3. , 3.5, 4. , 4.5, 5. , 5.5, 6. ])"
            ]
          },
          "metadata": {},
          "execution_count": 160
        }
      ]
    },
    {
      "cell_type": "markdown",
      "source": [
        "# np.linspace(start,stop,size)：範囲と生成数から作成"
      ],
      "metadata": {
        "id": "9LT-C2DVxWvK"
      }
    },
    {
      "cell_type": "markdown",
      "source": [
        "defaultは50のため指定なしだと50個"
      ],
      "metadata": {
        "id": "aTMq9BGexvDr"
      }
    },
    {
      "cell_type": "code",
      "source": [
        "np.linspace(0,8)"
      ],
      "metadata": {
        "colab": {
          "base_uri": "https://localhost:8080/"
        },
        "id": "NzLrivc965Hu",
        "outputId": "f0113b07-4b2e-4c5b-ea23-26543cf77e9a"
      },
      "execution_count": 161,
      "outputs": [
        {
          "output_type": "execute_result",
          "data": {
            "text/plain": [
              "array([0.        , 0.16326531, 0.32653061, 0.48979592, 0.65306122,\n",
              "       0.81632653, 0.97959184, 1.14285714, 1.30612245, 1.46938776,\n",
              "       1.63265306, 1.79591837, 1.95918367, 2.12244898, 2.28571429,\n",
              "       2.44897959, 2.6122449 , 2.7755102 , 2.93877551, 3.10204082,\n",
              "       3.26530612, 3.42857143, 3.59183673, 3.75510204, 3.91836735,\n",
              "       4.08163265, 4.24489796, 4.40816327, 4.57142857, 4.73469388,\n",
              "       4.89795918, 5.06122449, 5.2244898 , 5.3877551 , 5.55102041,\n",
              "       5.71428571, 5.87755102, 6.04081633, 6.20408163, 6.36734694,\n",
              "       6.53061224, 6.69387755, 6.85714286, 7.02040816, 7.18367347,\n",
              "       7.34693878, 7.51020408, 7.67346939, 7.83673469, 8.        ])"
            ]
          },
          "metadata": {},
          "execution_count": 161
        }
      ]
    },
    {
      "cell_type": "code",
      "source": [
        "np.linspace(0,5,10)\n",
        "#stopを含む"
      ],
      "metadata": {
        "colab": {
          "base_uri": "https://localhost:8080/"
        },
        "id": "jVmc5DRyxnJq",
        "outputId": "e4df3842-10c9-4583-d7a3-e092dcca396a"
      },
      "execution_count": 162,
      "outputs": [
        {
          "output_type": "execute_result",
          "data": {
            "text/plain": [
              "array([0.        , 0.55555556, 1.11111111, 1.66666667, 2.22222222,\n",
              "       2.77777778, 3.33333333, 3.88888889, 4.44444444, 5.        ])"
            ]
          },
          "metadata": {},
          "execution_count": 162
        }
      ]
    },
    {
      "cell_type": "code",
      "source": [
        "np.linspace(0,5,10, endpoint=False)"
      ],
      "metadata": {
        "colab": {
          "base_uri": "https://localhost:8080/"
        },
        "id": "OgJsI6QVx5we",
        "outputId": "366210ac-7e5a-47d8-d0f1-b7d5cf9299a4"
      },
      "execution_count": 163,
      "outputs": [
        {
          "output_type": "execute_result",
          "data": {
            "text/plain": [
              "array([0. , 0.5, 1. , 1.5, 2. , 2.5, 3. , 3.5, 4. , 4.5])"
            ]
          },
          "metadata": {},
          "execution_count": 163
        }
      ]
    },
    {
      "cell_type": "markdown",
      "source": [
        "# Randomモジュールによる乱数Arrayの作成"
      ],
      "metadata": {
        "id": "b66DU2W8yim5"
      }
    },
    {
      "cell_type": "markdown",
      "source": [
        "np.random.randint(low,high,size):整数"
      ],
      "metadata": {
        "id": "yIcNOkJr4tJC"
      }
    },
    {
      "cell_type": "code",
      "source": [
        "np.random.randint(10,30,5)"
      ],
      "metadata": {
        "colab": {
          "base_uri": "https://localhost:8080/"
        },
        "id": "IO68RP_DyITm",
        "outputId": "3536cf23-2a2c-4e15-90cc-f5a6557a2533"
      },
      "execution_count": 164,
      "outputs": [
        {
          "output_type": "execute_result",
          "data": {
            "text/plain": [
              "array([19, 19, 24, 18, 21])"
            ]
          },
          "metadata": {},
          "execution_count": 164
        }
      ]
    },
    {
      "cell_type": "code",
      "source": [
        "#三つのlistの中に4つのlistの中に２つの値\n",
        "np.random.randint(10,50,(3,4,2))"
      ],
      "metadata": {
        "colab": {
          "base_uri": "https://localhost:8080/"
        },
        "id": "z6mXoimz48BX",
        "outputId": "3ca589bf-3967-4838-dc38-e3d2e43f7012"
      },
      "execution_count": 165,
      "outputs": [
        {
          "output_type": "execute_result",
          "data": {
            "text/plain": [
              "array([[[12, 15],\n",
              "        [47, 45],\n",
              "        [36, 28],\n",
              "        [29, 32]],\n",
              "\n",
              "       [[23, 19],\n",
              "        [14, 40],\n",
              "        [39, 21],\n",
              "        [11, 11]],\n",
              "\n",
              "       [[16, 12],\n",
              "        [27, 16],\n",
              "        [45, 25],\n",
              "        [10, 41]]])"
            ]
          },
          "metadata": {},
          "execution_count": 165
        }
      ]
    },
    {
      "cell_type": "markdown",
      "source": [
        "乱数シード"
      ],
      "metadata": {
        "id": "arbXRzR53xoL"
      }
    },
    {
      "cell_type": "code",
      "source": [
        "np.random.seed(17)\n",
        "np.random.randint(1, 100)"
      ],
      "metadata": {
        "colab": {
          "base_uri": "https://localhost:8080/"
        },
        "id": "2LMqphkz3M9x",
        "outputId": "b103c7d4-3296-4aa5-c705-0c910ce48b10"
      },
      "execution_count": 166,
      "outputs": [
        {
          "output_type": "execute_result",
          "data": {
            "text/plain": [
              "16"
            ]
          },
          "metadata": {},
          "execution_count": 166
        }
      ]
    },
    {
      "cell_type": "code",
      "source": [
        "np.random.randint(1,100)"
      ],
      "metadata": {
        "colab": {
          "base_uri": "https://localhost:8080/"
        },
        "id": "iW4p0dlg4Pge",
        "outputId": "e4e17385-6c4d-4377-f645-b32c6ad03050"
      },
      "execution_count": 167,
      "outputs": [
        {
          "output_type": "execute_result",
          "data": {
            "text/plain": [
              "7"
            ]
          },
          "metadata": {},
          "execution_count": 167
        }
      ]
    },
    {
      "cell_type": "markdown",
      "source": [
        "np.random.rand(size):0以上１未満"
      ],
      "metadata": {
        "id": "zpuwtMTW4JKg"
      }
    },
    {
      "cell_type": "code",
      "source": [
        "np.random.rand(5)"
      ],
      "metadata": {
        "colab": {
          "base_uri": "https://localhost:8080/"
        },
        "id": "lfzcLMbS36KH",
        "outputId": "081aa597-0022-4ac6-893f-86225becaad7"
      },
      "execution_count": 168,
      "outputs": [
        {
          "output_type": "execute_result",
          "data": {
            "text/plain": [
              "array([0.19152079, 0.06790036, 0.78698546, 0.65633352, 0.6375209 ])"
            ]
          },
          "metadata": {},
          "execution_count": 168
        }
      ]
    },
    {
      "cell_type": "code",
      "source": [
        "np.random.rand(3,4)"
      ],
      "metadata": {
        "colab": {
          "base_uri": "https://localhost:8080/"
        },
        "id": "QWwxKIZs4asQ",
        "outputId": "9f3f15ea-44cb-481b-e3b5-8f2ff78c52c9"
      },
      "execution_count": 169,
      "outputs": [
        {
          "output_type": "execute_result",
          "data": {
            "text/plain": [
              "array([[0.57560289, 0.03906292, 0.3578136 , 0.94568319],\n",
              "       [0.06004468, 0.8640421 , 0.87729053, 0.05119367],\n",
              "       [0.65241862, 0.55175137, 0.59751325, 0.48352862]])"
            ]
          },
          "metadata": {},
          "execution_count": 169
        }
      ]
    },
    {
      "cell_type": "markdown",
      "source": [
        "np.random.uniform(low,high,size):範囲と生成数を指定、連続一様分布に近づく"
      ],
      "metadata": {
        "id": "1slu8WMwluFl"
      }
    },
    {
      "cell_type": "code",
      "source": [
        "np.random.uniform(2,8,10).mean()"
      ],
      "metadata": {
        "colab": {
          "base_uri": "https://localhost:8080/"
        },
        "id": "9RVWrixf4fug",
        "outputId": "f0b35c87-a324-4416-f508-f9801cd2bfb7"
      },
      "execution_count": 170,
      "outputs": [
        {
          "output_type": "execute_result",
          "data": {
            "text/plain": [
              "4.288126684803441"
            ]
          },
          "metadata": {},
          "execution_count": 170
        }
      ]
    },
    {
      "cell_type": "code",
      "source": [
        "np.random.uniform(2,8,(3,4))"
      ],
      "metadata": {
        "colab": {
          "base_uri": "https://localhost:8080/"
        },
        "id": "1_z-wOclmDHP",
        "outputId": "3c296622-0672-434a-b354-7004bf170b16"
      },
      "execution_count": 171,
      "outputs": [
        {
          "output_type": "execute_result",
          "data": {
            "text/plain": [
              "array([[3.75390413, 3.19264323, 6.98818353, 5.40794672],\n",
              "       [2.4940385 , 5.26999144, 2.95375247, 6.06057431],\n",
              "       [2.71083359, 4.6699764 , 7.3278946 , 6.78360638]])"
            ]
          },
          "metadata": {},
          "execution_count": 171
        }
      ]
    },
    {
      "cell_type": "markdown",
      "source": [
        "np.random.choice(array,size):listの値をランダムに選択"
      ],
      "metadata": {
        "id": "HHOe3i3iYDGq"
      }
    },
    {
      "cell_type": "code",
      "source": [
        "I = [16,87,233]\n",
        "np.random.choice(I, 5)"
      ],
      "metadata": {
        "colab": {
          "base_uri": "https://localhost:8080/"
        },
        "id": "hdgqBdnGougK",
        "outputId": "3527f860-747d-42f9-a0d2-298779e6df02"
      },
      "execution_count": 172,
      "outputs": [
        {
          "output_type": "execute_result",
          "data": {
            "text/plain": [
              "array([87, 87, 16, 87, 16])"
            ]
          },
          "metadata": {},
          "execution_count": 172
        }
      ]
    },
    {
      "cell_type": "code",
      "source": [
        "np.random.choice(I ,(2,3))"
      ],
      "metadata": {
        "colab": {
          "base_uri": "https://localhost:8080/"
        },
        "id": "EjidCx5cXrDb",
        "outputId": "bcaf4e79-c4ab-49b7-adf5-52b88bee7aa8"
      },
      "execution_count": 173,
      "outputs": [
        {
          "output_type": "execute_result",
          "data": {
            "text/plain": [
              "array([[ 87,  87,  16],\n",
              "       [ 87, 233,  87]])"
            ]
          },
          "metadata": {},
          "execution_count": 173
        }
      ]
    },
    {
      "cell_type": "markdown",
      "source": [
        "np.random.randn(size):平均0、標準偏差1、正規分布に近づく数列"
      ],
      "metadata": {
        "id": "lw3LAQ5sYlsN"
      }
    },
    {
      "cell_type": "code",
      "source": [
        "values = np.array([1,3,5,7,9])\n",
        "mean = values.mean()\n",
        "mean"
      ],
      "metadata": {
        "colab": {
          "base_uri": "https://localhost:8080/"
        },
        "id": "xq9Bpc13YTch",
        "outputId": "4e36b2bf-a5f4-4c1c-f325-2a1e7b4ca3f7"
      },
      "execution_count": 174,
      "outputs": [
        {
          "output_type": "execute_result",
          "data": {
            "text/plain": [
              "5.0"
            ]
          },
          "metadata": {},
          "execution_count": 174
        }
      ]
    },
    {
      "cell_type": "code",
      "source": [
        "#「各値と平均値の差の二乗」の合計\n",
        "sum = (1 - 5)**2 + (3 - 5)**2 + (7 - 5)**2 + (9 - 5)**2\n",
        "sum"
      ],
      "metadata": {
        "colab": {
          "base_uri": "https://localhost:8080/"
        },
        "id": "opOknrELY1S3",
        "outputId": "be27ba1a-fa4a-476f-bfbc-9ddba57a90e8"
      },
      "execution_count": 175,
      "outputs": [
        {
          "output_type": "execute_result",
          "data": {
            "text/plain": [
              "40"
            ]
          },
          "metadata": {},
          "execution_count": 175
        }
      ]
    },
    {
      "cell_type": "code",
      "source": [
        "#その平均が分散\n",
        "var = sum / len(values)\n",
        "var"
      ],
      "metadata": {
        "colab": {
          "base_uri": "https://localhost:8080/"
        },
        "id": "1baaeVe0ZXSc",
        "outputId": "039a3700-9b93-46a2-be24-32a995e185b1"
      },
      "execution_count": 176,
      "outputs": [
        {
          "output_type": "execute_result",
          "data": {
            "text/plain": [
              "8.0"
            ]
          },
          "metadata": {},
          "execution_count": 176
        }
      ]
    },
    {
      "cell_type": "code",
      "source": [
        "#分散の正の平方根が標準偏差\n",
        "std = np.sqrt(var)\n",
        "std"
      ],
      "metadata": {
        "colab": {
          "base_uri": "https://localhost:8080/"
        },
        "id": "-WfODswvZgR7",
        "outputId": "164ae962-835e-4ff4-df54-8b00bfe81063"
      },
      "execution_count": 177,
      "outputs": [
        {
          "output_type": "execute_result",
          "data": {
            "text/plain": [
              "2.8284271247461903"
            ]
          },
          "metadata": {},
          "execution_count": 177
        }
      ]
    },
    {
      "cell_type": "code",
      "source": [
        "values = np.array([1,3,5,7,9])\n",
        "mean = values.mean()\n",
        "\n",
        "sum = 0\n",
        "for value in values:\n",
        "  sum += (value - mean)**2\n",
        "\n",
        "var = sum / len(values)\n",
        "std = np.round(np.sqrt(var), 4)\n",
        "\n",
        "print(f' 分散: {var}, 標準偏差: {std}')"
      ],
      "metadata": {
        "colab": {
          "base_uri": "https://localhost:8080/"
        },
        "id": "yplrSif1ZpZ8",
        "outputId": "7f47c613-1ba6-4fce-858c-6c2feb1ec2ed"
      },
      "execution_count": 178,
      "outputs": [
        {
          "output_type": "stream",
          "name": "stdout",
          "text": [
            " 分散: 8.0, 標準偏差: 2.8284\n"
          ]
        }
      ]
    },
    {
      "cell_type": "code",
      "source": [
        "np.random.randn(1000).mean()"
      ],
      "metadata": {
        "colab": {
          "base_uri": "https://localhost:8080/"
        },
        "id": "WPnRlxBtcuD8",
        "outputId": "91a1c5fe-f52d-4607-9652-07fb5df0a0ef"
      },
      "execution_count": 179,
      "outputs": [
        {
          "output_type": "execute_result",
          "data": {
            "text/plain": [
              "0.02021743406820193"
            ]
          },
          "metadata": {},
          "execution_count": 179
        }
      ]
    },
    {
      "cell_type": "code",
      "source": [
        "#中央を平均とする、左右対称なベルカーブ\n",
        "np.random.seed(17)\n",
        "import matplotlib.pyplot as plt\n",
        "plt.hist(np.random.randn(1000), bins=20)\n",
        "plt.show()"
      ],
      "metadata": {
        "colab": {
          "base_uri": "https://localhost:8080/",
          "height": 430
        },
        "id": "F9f2uzqna3V3",
        "outputId": "f4f8a294-46bb-41c1-a805-8afd03beebb5"
      },
      "execution_count": 180,
      "outputs": [
        {
          "output_type": "display_data",
          "data": {
            "text/plain": [
              "<Figure size 640x480 with 1 Axes>"
            ],
            "image/png": "[encoded data removed]"
          },
          "metadata": {}
        }
      ]
    },
    {
      "cell_type": "markdown",
      "source": [
        "np.random.normal(average,standard_deviation,size):平均と標準偏差を指定、正規分布に近づく数列"
      ],
      "metadata": {
        "id": "5GcAcuTdd6QX"
      }
    },
    {
      "cell_type": "code",
      "source": [
        "np.random.normal(50, 1, 10)"
      ],
      "metadata": {
        "colab": {
          "base_uri": "https://localhost:8080/"
        },
        "id": "B7kAgc_Fd7tj",
        "outputId": "d52c19d0-40b1-4228-df71-d2a49ab60842"
      },
      "execution_count": 181,
      "outputs": [
        {
          "output_type": "execute_result",
          "data": {
            "text/plain": [
              "array([50.20519082, 49.62717611, 50.66191469, 49.69196425, 50.15201394,\n",
              "       49.00409711, 49.57827754, 51.33262148, 50.29294534, 48.83167682])"
            ]
          },
          "metadata": {},
          "execution_count": 181
        }
      ]
    },
    {
      "cell_type": "code",
      "source": [
        "np.random.normal(50,20,(2,5))"
      ],
      "metadata": {
        "colab": {
          "base_uri": "https://localhost:8080/"
        },
        "id": "QBvTpVkweCaz",
        "outputId": "b62d73fa-4df1-4ca0-d4ae-4ff9dccc96ec"
      },
      "execution_count": 182,
      "outputs": [
        {
          "output_type": "execute_result",
          "data": {
            "text/plain": [
              "array([[10.50995435, 66.50950984, 34.12534389, 53.44124834, 32.2554948 ],\n",
              "       [65.88857107, 56.07838467, 30.17273726, 44.25715629, 33.25875306]])"
            ]
          },
          "metadata": {},
          "execution_count": 182
        }
      ]
    },
    {
      "cell_type": "code",
      "source": [
        "plt.hist(np.random.normal(100, 4, 1000), bins=30)\n",
        "plt.xlim(60, 140)\n",
        "plt.show()"
      ],
      "metadata": {
        "colab": {
          "base_uri": "https://localhost:8080/",
          "height": 430
        },
        "id": "38eLvVNdeUkW",
        "outputId": "6d681436-8dba-4610-e9a4-25eb87de71de"
      },
      "execution_count": 183,
      "outputs": [
        {
          "output_type": "display_data",
          "data": {
            "text/plain": [
              "<Figure size 640x480 with 1 Axes>"
            ],
            "image/png": "[encoded data removed]"
          },
          "metadata": {}
        }
      ]
    },
    {
      "cell_type": "code",
      "source": [
        "plt.hist(np.random.normal(100, 12, 1000), bins=30)\n",
        "plt.xlim(60, 140)\n",
        "plt.show()"
      ],
      "metadata": {
        "colab": {
          "base_uri": "https://localhost:8080/",
          "height": 430
        },
        "id": "tDFpkYHTei4A",
        "outputId": "8655058b-015e-4465-8fd9-2c0b2c2b8b02"
      },
      "execution_count": 184,
      "outputs": [
        {
          "output_type": "display_data",
          "data": {
            "text/plain": [
              "<Figure size 640x480 with 1 Axes>"
            ],
            "image/png": "[encoded data removed]"
          },
          "metadata": {}
        }
      ]
    },
    {
      "cell_type": "markdown",
      "source": [
        "# Numpy ndarrayの次元、形状、サイズ\n",
        "\n",
        "\n",
        "\n",
        "*   次元\n",
        "*   形状\n",
        "*   サイズ(要素数)\n",
        "*   形状の変換\n",
        "\n",
        "\n",
        "\n"
      ],
      "metadata": {
        "id": "i0pKQUcef7N_"
      }
    },
    {
      "cell_type": "code",
      "source": [
        "np_arr = np.random.rand(2,3,4)\n",
        "np_arr"
      ],
      "metadata": {
        "colab": {
          "base_uri": "https://localhost:8080/"
        },
        "id": "W6UGP3LZgLB_",
        "outputId": "8c89c273-f1ed-4700-8f8e-75df937daa1d"
      },
      "execution_count": 185,
      "outputs": [
        {
          "output_type": "execute_result",
          "data": {
            "text/plain": [
              "array([[[0.33887809, 0.62434763, 0.99649113, 0.21400349],\n",
              "        [0.91761127, 0.50308238, 0.79860458, 0.09671761],\n",
              "        [0.31800839, 0.28891147, 0.36951653, 0.35912305]],\n",
              "\n",
              "       [[0.99945468, 0.39808583, 0.50928051, 0.80035771],\n",
              "        [0.85503816, 0.19507144, 0.04034571, 0.06205187],\n",
              "        [0.26933004, 0.8336843 , 0.23175234, 0.22959681]]])"
            ]
          },
          "metadata": {},
          "execution_count": 185
        }
      ]
    },
    {
      "cell_type": "markdown",
      "source": [
        "次元"
      ],
      "metadata": {
        "id": "Mjr2hAf7gbxT"
      }
    },
    {
      "cell_type": "code",
      "source": [
        "np_arr.ndim"
      ],
      "metadata": {
        "colab": {
          "base_uri": "https://localhost:8080/"
        },
        "id": "GZbzlLHHgZWW",
        "outputId": "a69b6f93-eeca-4b73-9bfb-eb0e6facee8c"
      },
      "execution_count": 186,
      "outputs": [
        {
          "output_type": "execute_result",
          "data": {
            "text/plain": [
              "3"
            ]
          },
          "metadata": {},
          "execution_count": 186
        }
      ]
    },
    {
      "cell_type": "code",
      "source": [
        "np.random.rand(2,3,4,5,6).ndim"
      ],
      "metadata": {
        "colab": {
          "base_uri": "https://localhost:8080/"
        },
        "id": "R4yGd1XXgVhH",
        "outputId": "08ddf283-0553-472c-c20f-60bd3649b5a4"
      },
      "execution_count": 187,
      "outputs": [
        {
          "output_type": "execute_result",
          "data": {
            "text/plain": [
              "5"
            ]
          },
          "metadata": {},
          "execution_count": 187
        }
      ]
    },
    {
      "cell_type": "markdown",
      "source": [
        "形状"
      ],
      "metadata": {
        "id": "zy0H2adfgwGV"
      }
    },
    {
      "cell_type": "code",
      "source": [
        "np_arr.shape"
      ],
      "metadata": {
        "colab": {
          "base_uri": "https://localhost:8080/"
        },
        "id": "Q_pEadrpgrvG",
        "outputId": "9a9a6be3-9bb3-4787-f205-7d58a99c42e5"
      },
      "execution_count": 188,
      "outputs": [
        {
          "output_type": "execute_result",
          "data": {
            "text/plain": [
              "(2, 3, 4)"
            ]
          },
          "metadata": {},
          "execution_count": 188
        }
      ]
    },
    {
      "cell_type": "code",
      "source": [
        "np.array([1,2,3]).shape"
      ],
      "metadata": {
        "colab": {
          "base_uri": "https://localhost:8080/"
        },
        "id": "afiIcTezg7wr",
        "outputId": "c13e450d-5944-468d-ecc8-c7c879be01fa"
      },
      "execution_count": 189,
      "outputs": [
        {
          "output_type": "execute_result",
          "data": {
            "text/plain": [
              "(3,)"
            ]
          },
          "metadata": {},
          "execution_count": 189
        }
      ]
    },
    {
      "cell_type": "code",
      "source": [
        "np.array([[1,2],[3,4],[5,6]]).shape"
      ],
      "metadata": {
        "colab": {
          "base_uri": "https://localhost:8080/"
        },
        "id": "pDiRICvmhOx1",
        "outputId": "35983f5d-7701-416a-a821-45e6a90366b8"
      },
      "execution_count": 190,
      "outputs": [
        {
          "output_type": "execute_result",
          "data": {
            "text/plain": [
              "(3, 2)"
            ]
          },
          "metadata": {},
          "execution_count": 190
        }
      ]
    },
    {
      "cell_type": "markdown",
      "source": [
        "サイズ(要素数)"
      ],
      "metadata": {
        "id": "ukOX6IQjgxCt"
      }
    },
    {
      "cell_type": "code",
      "source": [
        "np_arr.size"
      ],
      "metadata": {
        "colab": {
          "base_uri": "https://localhost:8080/"
        },
        "id": "J0rWIxoxgzqM",
        "outputId": "861132ba-a880-4571-cc2a-a29fb1e372c4"
      },
      "execution_count": 191,
      "outputs": [
        {
          "output_type": "execute_result",
          "data": {
            "text/plain": [
              "24"
            ]
          },
          "metadata": {},
          "execution_count": 191
        }
      ]
    },
    {
      "cell_type": "code",
      "source": [
        "np.array([[1,2],[3,4],[5,6]]).size"
      ],
      "metadata": {
        "colab": {
          "base_uri": "https://localhost:8080/"
        },
        "id": "Obuj9PQfhhP1",
        "outputId": "575b5287-0814-4b65-b8e0-d12d07d8a9a5"
      },
      "execution_count": 192,
      "outputs": [
        {
          "output_type": "execute_result",
          "data": {
            "text/plain": [
              "6"
            ]
          },
          "metadata": {},
          "execution_count": 192
        }
      ]
    },
    {
      "cell_type": "markdown",
      "source": [
        "形状の変換"
      ],
      "metadata": {
        "id": "RENXSVhFg0HG"
      }
    },
    {
      "cell_type": "code",
      "source": [
        "np_arr.shape"
      ],
      "metadata": {
        "colab": {
          "base_uri": "https://localhost:8080/"
        },
        "id": "FaQLHfejhof-",
        "outputId": "cbfbd6bb-0fd8-4648-8880-038864a3398c"
      },
      "execution_count": 193,
      "outputs": [
        {
          "output_type": "execute_result",
          "data": {
            "text/plain": [
              "(2, 3, 4)"
            ]
          },
          "metadata": {},
          "execution_count": 193
        }
      ]
    },
    {
      "cell_type": "code",
      "source": [
        "np_arr.reshape(4,6)"
      ],
      "metadata": {
        "colab": {
          "base_uri": "https://localhost:8080/"
        },
        "id": "OSw933XShoyH",
        "outputId": "43674f65-0930-4005-d765-9beeaaa54882"
      },
      "execution_count": 194,
      "outputs": [
        {
          "output_type": "execute_result",
          "data": {
            "text/plain": [
              "array([[0.33887809, 0.62434763, 0.99649113, 0.21400349, 0.91761127,\n",
              "        0.50308238],\n",
              "       [0.79860458, 0.09671761, 0.31800839, 0.28891147, 0.36951653,\n",
              "        0.35912305],\n",
              "       [0.99945468, 0.39808583, 0.50928051, 0.80035771, 0.85503816,\n",
              "        0.19507144],\n",
              "       [0.04034571, 0.06205187, 0.26933004, 0.8336843 , 0.23175234,\n",
              "        0.22959681]])"
            ]
          },
          "metadata": {},
          "execution_count": 194
        }
      ]
    },
    {
      "cell_type": "code",
      "source": [
        "np_arr.reshape(2,2,2,3)"
      ],
      "metadata": {
        "colab": {
          "base_uri": "https://localhost:8080/"
        },
        "id": "yYonpmvzhsaL",
        "outputId": "20e8569e-3989-4e2e-fba8-2ca5e1b92235"
      },
      "execution_count": 195,
      "outputs": [
        {
          "output_type": "execute_result",
          "data": {
            "text/plain": [
              "array([[[[0.33887809, 0.62434763, 0.99649113],\n",
              "         [0.21400349, 0.91761127, 0.50308238]],\n",
              "\n",
              "        [[0.79860458, 0.09671761, 0.31800839],\n",
              "         [0.28891147, 0.36951653, 0.35912305]]],\n",
              "\n",
              "\n",
              "       [[[0.99945468, 0.39808583, 0.50928051],\n",
              "         [0.80035771, 0.85503816, 0.19507144]],\n",
              "\n",
              "        [[0.04034571, 0.06205187, 0.26933004],\n",
              "         [0.8336843 , 0.23175234, 0.22959681]]]])"
            ]
          },
          "metadata": {},
          "execution_count": 195
        }
      ]
    },
    {
      "cell_type": "code",
      "source": [
        "#-1には配列のsizeが入る\n",
        "np_arr.reshape(-1,1)"
      ],
      "metadata": {
        "colab": {
          "base_uri": "https://localhost:8080/"
        },
        "id": "XAVRLaX6iOX2",
        "outputId": "652eaec8-ef22-42c7-89a7-518596b32a22"
      },
      "execution_count": 196,
      "outputs": [
        {
          "output_type": "execute_result",
          "data": {
            "text/plain": [
              "array([[0.33887809],\n",
              "       [0.62434763],\n",
              "       [0.99649113],\n",
              "       [0.21400349],\n",
              "       [0.91761127],\n",
              "       [0.50308238],\n",
              "       [0.79860458],\n",
              "       [0.09671761],\n",
              "       [0.31800839],\n",
              "       [0.28891147],\n",
              "       [0.36951653],\n",
              "       [0.35912305],\n",
              "       [0.99945468],\n",
              "       [0.39808583],\n",
              "       [0.50928051],\n",
              "       [0.80035771],\n",
              "       [0.85503816],\n",
              "       [0.19507144],\n",
              "       [0.04034571],\n",
              "       [0.06205187],\n",
              "       [0.26933004],\n",
              "       [0.8336843 ],\n",
              "       [0.23175234],\n",
              "       [0.22959681]])"
            ]
          },
          "metadata": {},
          "execution_count": 196
        }
      ]
    },
    {
      "cell_type": "code",
      "source": [
        "np_arr.reshape(1,-1)"
      ],
      "metadata": {
        "colab": {
          "base_uri": "https://localhost:8080/"
        },
        "id": "vrRt0o12ib1H",
        "outputId": "d5c9b6b0-4c42-4fd2-a436-f7942566f93c"
      },
      "execution_count": 197,
      "outputs": [
        {
          "output_type": "execute_result",
          "data": {
            "text/plain": [
              "array([[0.33887809, 0.62434763, 0.99649113, 0.21400349, 0.91761127,\n",
              "        0.50308238, 0.79860458, 0.09671761, 0.31800839, 0.28891147,\n",
              "        0.36951653, 0.35912305, 0.99945468, 0.39808583, 0.50928051,\n",
              "        0.80035771, 0.85503816, 0.19507144, 0.04034571, 0.06205187,\n",
              "        0.26933004, 0.8336843 , 0.23175234, 0.22959681]])"
            ]
          },
          "metadata": {},
          "execution_count": 197
        }
      ]
    },
    {
      "cell_type": "code",
      "source": [
        "np_arr.reshape(-1)"
      ],
      "metadata": {
        "colab": {
          "base_uri": "https://localhost:8080/"
        },
        "id": "pIc6b39aisAP",
        "outputId": "c9a09cdf-c644-4d47-daa8-b9abba38655a"
      },
      "execution_count": 198,
      "outputs": [
        {
          "output_type": "execute_result",
          "data": {
            "text/plain": [
              "array([0.33887809, 0.62434763, 0.99649113, 0.21400349, 0.91761127,\n",
              "       0.50308238, 0.79860458, 0.09671761, 0.31800839, 0.28891147,\n",
              "       0.36951653, 0.35912305, 0.99945468, 0.39808583, 0.50928051,\n",
              "       0.80035771, 0.85503816, 0.19507144, 0.04034571, 0.06205187,\n",
              "       0.26933004, 0.8336843 , 0.23175234, 0.22959681])"
            ]
          },
          "metadata": {},
          "execution_count": 198
        }
      ]
    },
    {
      "cell_type": "code",
      "source": [
        "np_arr.ravel()"
      ],
      "metadata": {
        "colab": {
          "base_uri": "https://localhost:8080/"
        },
        "id": "WS_OQO0aix7e",
        "outputId": "576085dc-6af7-433b-b360-9b0f892084ea"
      },
      "execution_count": 199,
      "outputs": [
        {
          "output_type": "execute_result",
          "data": {
            "text/plain": [
              "array([0.33887809, 0.62434763, 0.99649113, 0.21400349, 0.91761127,\n",
              "       0.50308238, 0.79860458, 0.09671761, 0.31800839, 0.28891147,\n",
              "       0.36951653, 0.35912305, 0.99945468, 0.39808583, 0.50928051,\n",
              "       0.80035771, 0.85503816, 0.19507144, 0.04034571, 0.06205187,\n",
              "       0.26933004, 0.8336843 , 0.23175234, 0.22959681])"
            ]
          },
          "metadata": {},
          "execution_count": 199
        }
      ]
    },
    {
      "cell_type": "code",
      "source": [
        "np_arr.flatten()"
      ],
      "metadata": {
        "colab": {
          "base_uri": "https://localhost:8080/"
        },
        "id": "P6kP5I5JjAAW",
        "outputId": "2db7e699-90cf-4728-c5bc-784fc2800d82"
      },
      "execution_count": 200,
      "outputs": [
        {
          "output_type": "execute_result",
          "data": {
            "text/plain": [
              "array([0.33887809, 0.62434763, 0.99649113, 0.21400349, 0.91761127,\n",
              "       0.50308238, 0.79860458, 0.09671761, 0.31800839, 0.28891147,\n",
              "       0.36951653, 0.35912305, 0.99945468, 0.39808583, 0.50928051,\n",
              "       0.80035771, 0.85503816, 0.19507144, 0.04034571, 0.06205187,\n",
              "       0.26933004, 0.8336843 , 0.23175234, 0.22959681])"
            ]
          },
          "metadata": {},
          "execution_count": 200
        }
      ]
    },
    {
      "cell_type": "code",
      "source": [
        "#メモリ上にコピーする\n",
        "np_arr.flatten()[0] = 99\n",
        "np_arr"
      ],
      "metadata": {
        "colab": {
          "base_uri": "https://localhost:8080/"
        },
        "id": "Lu0AqTtnjEnf",
        "outputId": "75630019-d5ef-42bd-cc33-f7b670f32f09"
      },
      "execution_count": 201,
      "outputs": [
        {
          "output_type": "execute_result",
          "data": {
            "text/plain": [
              "array([[[0.33887809, 0.62434763, 0.99649113, 0.21400349],\n",
              "        [0.91761127, 0.50308238, 0.79860458, 0.09671761],\n",
              "        [0.31800839, 0.28891147, 0.36951653, 0.35912305]],\n",
              "\n",
              "       [[0.99945468, 0.39808583, 0.50928051, 0.80035771],\n",
              "        [0.85503816, 0.19507144, 0.04034571, 0.06205187],\n",
              "        [0.26933004, 0.8336843 , 0.23175234, 0.22959681]]])"
            ]
          },
          "metadata": {},
          "execution_count": 201
        }
      ]
    },
    {
      "cell_type": "code",
      "source": [
        "#メモリ上にコピーしない\n",
        "np_arr.ravel()[0] = 99\n",
        "np_arr"
      ],
      "metadata": {
        "colab": {
          "base_uri": "https://localhost:8080/"
        },
        "id": "Tski34AljII3",
        "outputId": "a861e210-949a-4a48-9541-7c02d3c3eca9"
      },
      "execution_count": 202,
      "outputs": [
        {
          "output_type": "execute_result",
          "data": {
            "text/plain": [
              "array([[[9.90000000e+01, 6.24347632e-01, 9.96491129e-01, 2.14003488e-01],\n",
              "        [9.17611267e-01, 5.03082383e-01, 7.98604577e-01, 9.67176090e-02],\n",
              "        [3.18008391e-01, 2.88911465e-01, 3.69516534e-01, 3.59123053e-01]],\n",
              "\n",
              "       [[9.99454677e-01, 3.98085835e-01, 5.09280507e-01, 8.00357708e-01],\n",
              "        [8.55038162e-01, 1.95071436e-01, 4.03457106e-02, 6.20518682e-02],\n",
              "        [2.69330041e-01, 8.33684300e-01, 2.31752344e-01, 2.29596807e-01]]])"
            ]
          },
          "metadata": {},
          "execution_count": 202
        }
      ]
    },
    {
      "cell_type": "markdown",
      "source": [
        "# Numpy ndarrayの演算例"
      ],
      "metadata": {
        "id": "xMgdIKPfl9fK"
      }
    },
    {
      "cell_type": "code",
      "source": [
        "arr = [[2,4,8],[3,9,27]]\n",
        "np_arr = np.array(arr)\n",
        "np_arr"
      ],
      "metadata": {
        "colab": {
          "base_uri": "https://localhost:8080/"
        },
        "id": "VcAHK5F3jVqx",
        "outputId": "2ac79115-d368-4ae4-8e17-cceb8be974ad"
      },
      "execution_count": 203,
      "outputs": [
        {
          "output_type": "execute_result",
          "data": {
            "text/plain": [
              "array([[ 2,  4,  8],\n",
              "       [ 3,  9, 27]])"
            ]
          },
          "metadata": {},
          "execution_count": 203
        }
      ]
    },
    {
      "cell_type": "code",
      "source": [
        "np_arr + 1000\n",
        "np_arr * 2\n",
        "np_arr % 2\n",
        "np_arr // 1.5"
      ],
      "metadata": {
        "colab": {
          "base_uri": "https://localhost:8080/"
        },
        "id": "ELV_253Rj1j5",
        "outputId": "9b04724f-8eaf-4269-a549-7062a6d6d51c"
      },
      "execution_count": 204,
      "outputs": [
        {
          "output_type": "execute_result",
          "data": {
            "text/plain": [
              "array([[ 1.,  2.,  5.],\n",
              "       [ 2.,  6., 18.]])"
            ]
          },
          "metadata": {},
          "execution_count": 204
        }
      ]
    },
    {
      "cell_type": "code",
      "source": [
        "np_arr + np_arr\n",
        "np_arr * np_arr"
      ],
      "metadata": {
        "colab": {
          "base_uri": "https://localhost:8080/"
        },
        "id": "MHBnFpUrlyx1",
        "outputId": "1528c586-d411-4ad1-f988-88084b6924a9"
      },
      "execution_count": 205,
      "outputs": [
        {
          "output_type": "execute_result",
          "data": {
            "text/plain": [
              "array([[  4,  16,  64],\n",
              "       [  9,  81, 729]])"
            ]
          },
          "metadata": {},
          "execution_count": 205
        }
      ]
    },
    {
      "cell_type": "code",
      "source": [
        "np_arr + [1000, 2000, 3000]"
      ],
      "metadata": {
        "colab": {
          "base_uri": "https://localhost:8080/"
        },
        "id": "63FgJspZmXTR",
        "outputId": "4702fba8-b938-47ae-a604-92254e8cc2c1"
      },
      "execution_count": 206,
      "outputs": [
        {
          "output_type": "execute_result",
          "data": {
            "text/plain": [
              "array([[1002, 2004, 3008],\n",
              "       [1003, 2009, 3027]])"
            ]
          },
          "metadata": {},
          "execution_count": 206
        }
      ]
    },
    {
      "cell_type": "code",
      "source": [
        "#np_arr + [1000, 2000]"
      ],
      "metadata": {
        "id": "SpBOw8bGmqRf"
      },
      "execution_count": 207,
      "outputs": []
    },
    {
      "cell_type": "code",
      "source": [
        "np_arr + [1000, 2000, 3000]"
      ],
      "metadata": {
        "colab": {
          "base_uri": "https://localhost:8080/"
        },
        "id": "xHbmCqz4muqu",
        "outputId": "4431245b-8ebd-464e-fa5f-f50abf6b3c37"
      },
      "execution_count": 208,
      "outputs": [
        {
          "output_type": "execute_result",
          "data": {
            "text/plain": [
              "array([[1002, 2004, 3008],\n",
              "       [1003, 2009, 3027]])"
            ]
          },
          "metadata": {},
          "execution_count": 208
        }
      ]
    },
    {
      "cell_type": "code",
      "source": [
        "np_arr.sum()"
      ],
      "metadata": {
        "colab": {
          "base_uri": "https://localhost:8080/"
        },
        "id": "6lIWDKp3nSv4",
        "outputId": "b235176f-3251-4f9d-99cf-568857ce4ba8"
      },
      "execution_count": 209,
      "outputs": [
        {
          "output_type": "execute_result",
          "data": {
            "text/plain": [
              "53"
            ]
          },
          "metadata": {},
          "execution_count": 209
        }
      ]
    },
    {
      "cell_type": "code",
      "source": [
        "np_arr.sum(axis=0)"
      ],
      "metadata": {
        "colab": {
          "base_uri": "https://localhost:8080/"
        },
        "id": "Z-fTuVs8nezw",
        "outputId": "ad1b68d1-7fdb-49e2-abb3-d06d8726f581"
      },
      "execution_count": 210,
      "outputs": [
        {
          "output_type": "execute_result",
          "data": {
            "text/plain": [
              "array([ 5, 13, 35])"
            ]
          },
          "metadata": {},
          "execution_count": 210
        }
      ]
    },
    {
      "cell_type": "code",
      "source": [
        "np_arr.sum(axis=1)"
      ],
      "metadata": {
        "colab": {
          "base_uri": "https://localhost:8080/"
        },
        "id": "eSZErplunjKh",
        "outputId": "16ba1d19-3ee7-4324-e53e-189adf90fd66"
      },
      "execution_count": 211,
      "outputs": [
        {
          "output_type": "execute_result",
          "data": {
            "text/plain": [
              "array([14, 39])"
            ]
          },
          "metadata": {},
          "execution_count": 211
        }
      ]
    },
    {
      "cell_type": "code",
      "source": [
        "#乗数\n",
        "np.power(np_arr, 2)"
      ],
      "metadata": {
        "colab": {
          "base_uri": "https://localhost:8080/"
        },
        "id": "M5lhT2HlnqJJ",
        "outputId": "33aae4ee-ae7d-4a0b-c982-b34ebdefeccd"
      },
      "execution_count": 212,
      "outputs": [
        {
          "output_type": "execute_result",
          "data": {
            "text/plain": [
              "array([[  4,  16,  64],\n",
              "       [  9,  81, 729]])"
            ]
          },
          "metadata": {},
          "execution_count": 212
        }
      ]
    },
    {
      "cell_type": "code",
      "source": [
        "#各数をradianとして三角比のsinを求める\n",
        "np.sin(np_arr)"
      ],
      "metadata": {
        "colab": {
          "base_uri": "https://localhost:8080/"
        },
        "id": "MOkwyXTw4Oei",
        "outputId": "21e37466-f610-4d91-ed23-370464a65cdd"
      },
      "execution_count": 213,
      "outputs": [
        {
          "output_type": "execute_result",
          "data": {
            "text/plain": [
              "array([[ 0.90929743, -0.7568025 ,  0.98935825],\n",
              "       [ 0.14112001,  0.41211849,  0.95637593]])"
            ]
          },
          "metadata": {},
          "execution_count": 213
        }
      ]
    },
    {
      "cell_type": "code",
      "source": [
        "#小数点切り捨て\n",
        "np.floor(np.sqrt(np_arr))"
      ],
      "metadata": {
        "colab": {
          "base_uri": "https://localhost:8080/"
        },
        "id": "UvLfsDwz4cQh",
        "outputId": "7301b323-6de6-4566-bb54-38270c8d1b1f"
      },
      "execution_count": 217,
      "outputs": [
        {
          "output_type": "execute_result",
          "data": {
            "text/plain": [
              "array([[1., 2., 2.],\n",
              "       [1., 3., 5.]])"
            ]
          },
          "metadata": {},
          "execution_count": 217
        }
      ]
    },
    {
      "cell_type": "code",
      "source": [
        "#切り上げ\n",
        "np.ceil(np.sqrt(np_arr))"
      ],
      "metadata": {
        "colab": {
          "base_uri": "https://localhost:8080/"
        },
        "id": "Uw16j7cJ4oCU",
        "outputId": "59b9d880-e9b1-4a64-8122-ae1e7af51024"
      },
      "execution_count": 221,
      "outputs": [
        {
          "output_type": "execute_result",
          "data": {
            "text/plain": [
              "array([[2., 2., 3.],\n",
              "       [2., 3., 6.]])"
            ]
          },
          "metadata": {},
          "execution_count": 221
        }
      ]
    },
    {
      "cell_type": "code",
      "source": [
        "#四捨五入 小数点の桁を指定できる\n",
        "np.round(np.sqrt(np_arr))"
      ],
      "metadata": {
        "colab": {
          "base_uri": "https://localhost:8080/"
        },
        "id": "Ee8srGl84x9M",
        "outputId": "12a3fe0f-f620-4e31-cffb-e76fe757996b"
      },
      "execution_count": 226,
      "outputs": [
        {
          "output_type": "execute_result",
          "data": {
            "text/plain": [
              "array([[1., 2., 3.],\n",
              "       [2., 3., 5.]])"
            ]
          },
          "metadata": {},
          "execution_count": 226
        }
      ]
    },
    {
      "cell_type": "code",
      "source": [
        "#絶対値\n",
        "np.abs(np.sqrt(np_arr))"
      ],
      "metadata": {
        "colab": {
          "base_uri": "https://localhost:8080/"
        },
        "id": "3ZmwRROC4516",
        "outputId": "33f2298c-a2c0-477c-a61a-0c56ffad1f39"
      },
      "execution_count": 225,
      "outputs": [
        {
          "output_type": "execute_result",
          "data": {
            "text/plain": [
              "array([[1.41421356, 2.        , 2.82842712],\n",
              "       [1.73205081, 3.        , 5.19615242]])"
            ]
          },
          "metadata": {},
          "execution_count": 225
        }
      ]
    },
    {
      "cell_type": "code",
      "source": [],
      "metadata": {
        "id": "BNwhwe-z5A7Z"
      },
      "execution_count": null,
      "outputs": []
    }
  ]
}