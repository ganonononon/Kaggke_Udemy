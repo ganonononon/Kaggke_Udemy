{
  "cells": [
    {
      "cell_type": "markdown",
      "metadata": {
        "id": "view-in-github",
        "colab_type": "text"
      },
      "source": [
        "<a href=\"https://colab.research.google.com/github/ganonononon/Kaggke_Udemy/blob/main/1_Numpy_exercise%E3%83%86%E3%82%B9%E3%83%88.ipynb\" target=\"_parent\"><img src=\"https://colab.research.google.com/assets/colab-badge.svg\" alt=\"Open In Colab\"/></a>"
      ]
    },
    {
      "cell_type": "markdown",
      "id": "40d9c665",
      "metadata": {
        "id": "40d9c665"
      },
      "source": [
        "---\n",
        "# 1. Numpy Exercise\n",
        "---"
      ]
    },
    {
      "cell_type": "markdown",
      "id": "7c624520",
      "metadata": {
        "id": "7c624520"
      },
      "source": [
        "Exercise_1 : Numpyライブラリを np というエイリアスでインポートしてください"
      ]
    },
    {
      "cell_type": "code",
      "execution_count": null,
      "id": "2fe04f33",
      "metadata": {
        "id": "2fe04f33"
      },
      "outputs": [],
      "source": [
        "import numpy as np"
      ]
    },
    {
      "cell_type": "markdown",
      "id": "cb8b7c14",
      "metadata": {
        "id": "cb8b7c14"
      },
      "source": [
        "<details>\n",
        "    <summary><font color='red'>解答はここをクリック</font></summary>\n",
        "    <code>import numpy as np</code>\n",
        "</details>"
      ]
    },
    {
      "cell_type": "markdown",
      "id": "28d6b528",
      "metadata": {
        "id": "28d6b528"
      },
      "source": [
        "Exercise_2 :  [1, 3, 5, ..., 21, 23] の連続する値を持つ1次元のNumpy Array（変数名 arr1）を作成してください"
      ]
    },
    {
      "cell_type": "code",
      "execution_count": null,
      "id": "75eec315",
      "metadata": {
        "id": "75eec315"
      },
      "outputs": [],
      "source": [
        "arr1 = np.arange(1,24,2)"
      ]
    },
    {
      "cell_type": "markdown",
      "id": "1b4e0e97",
      "metadata": {
        "id": "1b4e0e97"
      },
      "source": [
        "<details>\n",
        "    <summary><font color='red'>解答はここをクリック</font></summary>\n",
        "    <code>arr1 = np.arange(1, 24, 2)</code>\n",
        "</details>"
      ]
    },
    {
      "cell_type": "code",
      "execution_count": null,
      "id": "8c671c2f",
      "metadata": {
        "colab": {
          "base_uri": "https://localhost:8080/"
        },
        "id": "8c671c2f",
        "outputId": "e6114446-573b-4671-bbae-8ae1b0840852"
      },
      "outputs": [
        {
          "output_type": "execute_result",
          "data": {
            "text/plain": [
              "array([ 1,  3,  5,  7,  9, 11, 13, 15, 17, 19, 21, 23])"
            ]
          },
          "metadata": {},
          "execution_count": 4
        }
      ],
      "source": [
        "# 実行して表示\n",
        "arr1"
      ]
    },
    {
      "cell_type": "markdown",
      "id": "4d1f6bf7",
      "metadata": {
        "id": "4d1f6bf7"
      },
      "source": [
        "Exercise_3 : [0., 0.5, 1, ..., 5.5, 6.] （要素数は13）の連続する値を持つ1次元のNumpy Array（変数名 arr2）を作成してください"
      ]
    },
    {
      "cell_type": "code",
      "execution_count": null,
      "id": "4d45835a",
      "metadata": {
        "id": "4d45835a"
      },
      "outputs": [],
      "source": [
        "arr2 = np.linspace(0,6,13)"
      ]
    },
    {
      "cell_type": "markdown",
      "id": "5eb24fe7",
      "metadata": {
        "id": "5eb24fe7"
      },
      "source": [
        "<details>\n",
        "    <summary><font color='red'>解答はここをクリック</font></summary>\n",
        "    <code>arr2 = np.linspace(0, 6, 13)</code><br>\n",
        "    <code>np.arange(0, 6.1, 0.5)</code>などでも可\n",
        "</details>"
      ]
    },
    {
      "cell_type": "code",
      "execution_count": null,
      "id": "5a3a3f0e",
      "metadata": {
        "colab": {
          "base_uri": "https://localhost:8080/"
        },
        "id": "5a3a3f0e",
        "outputId": "462065ac-4ea2-4135-c6da-7972fa99c416"
      },
      "outputs": [
        {
          "output_type": "execute_result",
          "data": {
            "text/plain": [
              "array([0. , 0.5, 1. , 1.5, 2. , 2.5, 3. , 3.5, 4. , 4.5, 5. , 5.5, 6. ])"
            ]
          },
          "metadata": {},
          "execution_count": 11
        }
      ],
      "source": [
        "# 実行して表示\n",
        "arr2"
      ]
    },
    {
      "cell_type": "markdown",
      "id": "b2c30d92",
      "metadata": {
        "id": "b2c30d92"
      },
      "source": [
        "Exercise_4 : arr1 を3行4列の配列に変換してください(arr1_reshaped)"
      ]
    },
    {
      "cell_type": "code",
      "execution_count": null,
      "id": "cbd423f9",
      "metadata": {
        "id": "cbd423f9"
      },
      "outputs": [],
      "source": [
        "arr1_reshaped = arr1.reshape(3,4)"
      ]
    },
    {
      "cell_type": "markdown",
      "id": "fe9ffdad",
      "metadata": {
        "id": "fe9ffdad"
      },
      "source": [
        "<details>\n",
        "    <summary><font color='red'>解答はここをクリック</font></summary>\n",
        "    <code>arr1_reshaped = arr1.reshape(3, 4)</code>\n",
        "</details>"
      ]
    },
    {
      "cell_type": "code",
      "execution_count": null,
      "id": "b85002ac",
      "metadata": {
        "colab": {
          "base_uri": "https://localhost:8080/"
        },
        "id": "b85002ac",
        "outputId": "4c694af5-3c34-4773-b4f2-e52ca3a19337"
      },
      "outputs": [
        {
          "output_type": "execute_result",
          "data": {
            "text/plain": [
              "array([[ 1,  3,  5,  7],\n",
              "       [ 9, 11, 13, 15],\n",
              "       [17, 19, 21, 23]])"
            ]
          },
          "metadata": {},
          "execution_count": 15
        }
      ],
      "source": [
        "# 実行して表示\n",
        "arr1_reshaped"
      ]
    },
    {
      "cell_type": "markdown",
      "id": "f0713a2c",
      "metadata": {
        "id": "f0713a2c"
      },
      "source": [
        "Exercise_5: arr1 を2次元で1列の配列に変換してください(arr1_1col)"
      ]
    },
    {
      "cell_type": "code",
      "execution_count": null,
      "id": "40c54c21",
      "metadata": {
        "id": "40c54c21"
      },
      "outputs": [],
      "source": [
        "arr1_1col = arr1.reshape(-1,1)"
      ]
    },
    {
      "cell_type": "markdown",
      "id": "7cf92206",
      "metadata": {
        "id": "7cf92206"
      },
      "source": [
        "<details>\n",
        "    <summary><font color='red'>解答はここをクリック</font></summary>\n",
        "    <code>arr1_1col = arr1.reshape(-1, 1)</code>\n",
        "</details>"
      ]
    },
    {
      "cell_type": "code",
      "execution_count": null,
      "id": "a4bfecf3",
      "metadata": {
        "scrolled": true,
        "colab": {
          "base_uri": "https://localhost:8080/"
        },
        "id": "a4bfecf3",
        "outputId": "f362f764-29f8-4224-b60e-7c9f9169d66a"
      },
      "outputs": [
        {
          "output_type": "execute_result",
          "data": {
            "text/plain": [
              "array([[ 1],\n",
              "       [ 3],\n",
              "       [ 5],\n",
              "       [ 7],\n",
              "       [ 9],\n",
              "       [11],\n",
              "       [13],\n",
              "       [15],\n",
              "       [17],\n",
              "       [19],\n",
              "       [21],\n",
              "       [23]])"
            ]
          },
          "metadata": {},
          "execution_count": 18
        }
      ],
      "source": [
        "# 実行して表示\n",
        "arr1_1col"
      ]
    },
    {
      "cell_type": "markdown",
      "id": "2c9b76c6",
      "metadata": {
        "id": "2c9b76c6"
      },
      "source": [
        "Exercise_6 : arr1 を1次元の配列に変換してください(arr1_1dim)。ただし、arr1を扱っていく一方で、arr1_1dimの値の更新を行っていくことを前提とします。（もとのarr1のデータが変更されない手法を用いる）"
      ]
    },
    {
      "cell_type": "code",
      "execution_count": null,
      "id": "942c134a",
      "metadata": {
        "id": "942c134a"
      },
      "outputs": [],
      "source": [
        "arr1_1dim = arr1.flatten()"
      ]
    },
    {
      "cell_type": "markdown",
      "id": "245daf44",
      "metadata": {
        "id": "245daf44"
      },
      "source": [
        "<details>\n",
        "    <summary><font color='red'>解答はここをクリック</font></summary>\n",
        "    <code>arr1_1dim = arr1.flatten()</code>\n",
        "    <p>※ ravel()の場合はarr1_1dimを更新するとarr1も更新されてしまうため</p>\n",
        "</details>"
      ]
    },
    {
      "cell_type": "code",
      "execution_count": null,
      "id": "70668362",
      "metadata": {
        "colab": {
          "base_uri": "https://localhost:8080/"
        },
        "id": "70668362",
        "outputId": "82dca0e1-1d56-4e7f-b247-3a9b2fee4a86"
      },
      "outputs": [
        {
          "output_type": "execute_result",
          "data": {
            "text/plain": [
              "array([[ 1,  3,  5,  7,  9, 11, 13, 15, 17, 19, 21, 23]])"
            ]
          },
          "metadata": {},
          "execution_count": 21
        }
      ],
      "source": [
        "# 実行して表示\n",
        "arr1_1dim"
      ]
    },
    {
      "cell_type": "markdown",
      "id": "8f1ead72",
      "metadata": {
        "id": "8f1ead72"
      },
      "source": [
        "Exercise_7 : arr1_reshaped の次元数とその形状を確認してください"
      ]
    },
    {
      "cell_type": "code",
      "execution_count": null,
      "id": "31672c94",
      "metadata": {
        "colab": {
          "base_uri": "https://localhost:8080/"
        },
        "id": "31672c94",
        "outputId": "1958acec-179d-4d11-d6a5-833621b7fbf7"
      },
      "outputs": [
        {
          "output_type": "execute_result",
          "data": {
            "text/plain": [
              "2"
            ]
          },
          "metadata": {},
          "execution_count": 23
        }
      ],
      "source": [
        "# 次元\n",
        "arr1_reshaped.ndim"
      ]
    },
    {
      "cell_type": "markdown",
      "id": "ca4f3c41",
      "metadata": {
        "id": "ca4f3c41"
      },
      "source": [
        "<details>\n",
        "    <summary><font color='red'>解答はここをクリック</font></summary>\n",
        "    <code>arr1_reshaped.ndim</code>\n",
        "</details>"
      ]
    },
    {
      "cell_type": "code",
      "execution_count": null,
      "id": "4108338f",
      "metadata": {
        "colab": {
          "base_uri": "https://localhost:8080/"
        },
        "id": "4108338f",
        "outputId": "f9dc9907-e763-4ee3-88eb-536fe1ee1125"
      },
      "outputs": [
        {
          "output_type": "execute_result",
          "data": {
            "text/plain": [
              "(3, 4)"
            ]
          },
          "metadata": {},
          "execution_count": 25
        }
      ],
      "source": [
        "# 形状\n",
        "arr1_reshaped.shape"
      ]
    },
    {
      "cell_type": "markdown",
      "id": "216aaaa7",
      "metadata": {
        "id": "216aaaa7"
      },
      "source": [
        "<details>\n",
        "    <summary><font color='red'>解答はここをクリック</font></summary>\n",
        "    <code>arr1_reshaped.shape</code>\n",
        "</details>"
      ]
    },
    {
      "cell_type": "markdown",
      "id": "1a1ab977",
      "metadata": {
        "id": "1a1ab977"
      },
      "source": [
        "Exercise_8: Numpy の random モジュールを使い、0以上1未満の乱数を5つ持つ一次元の配列を作成してください（arr3）"
      ]
    },
    {
      "cell_type": "code",
      "execution_count": null,
      "id": "0fbca9e7",
      "metadata": {
        "id": "0fbca9e7"
      },
      "outputs": [],
      "source": [
        "arr3 = np.random.rand(5)"
      ]
    },
    {
      "cell_type": "markdown",
      "id": "9fedbc52",
      "metadata": {
        "id": "9fedbc52"
      },
      "source": [
        "<details>\n",
        "    <summary><font color='red'>解答はここをクリック</font></summary>\n",
        "    <code>arr3 = np.random.rand(5)</code>\n",
        "</details>"
      ]
    },
    {
      "cell_type": "code",
      "execution_count": null,
      "id": "4bd5b02d",
      "metadata": {
        "colab": {
          "base_uri": "https://localhost:8080/"
        },
        "id": "4bd5b02d",
        "outputId": "c9a204b3-c41c-4d45-8d7b-caa9755ea5ff"
      },
      "outputs": [
        {
          "output_type": "execute_result",
          "data": {
            "text/plain": [
              "array([0.58463197, 0.00214091, 0.99710451, 0.86292011, 0.81459737])"
            ]
          },
          "metadata": {},
          "execution_count": 28
        }
      ],
      "source": [
        "# 実行して表示\n",
        "arr3"
      ]
    },
    {
      "cell_type": "markdown",
      "id": "5a7f657f",
      "metadata": {
        "id": "5a7f657f"
      },
      "source": [
        "Exercise_9: 0以上1未満の乱数を持つ2行6列の配列を作成してください（arr4）"
      ]
    },
    {
      "cell_type": "code",
      "execution_count": null,
      "id": "49325506",
      "metadata": {
        "id": "49325506"
      },
      "outputs": [],
      "source": [
        "arr4 = np.random.rand(2,6)"
      ]
    },
    {
      "cell_type": "markdown",
      "id": "5b1b2726",
      "metadata": {
        "id": "5b1b2726"
      },
      "source": [
        "<details>\n",
        "    <summary><font color='red'>解答はここをクリック</font></summary>\n",
        "    <code>arr4 = np.random.rand(2, 6)</code>\n",
        "</details>"
      ]
    },
    {
      "cell_type": "code",
      "execution_count": null,
      "id": "c8e9021c",
      "metadata": {
        "scrolled": true,
        "colab": {
          "base_uri": "https://localhost:8080/"
        },
        "id": "c8e9021c",
        "outputId": "144b66c4-c1ce-4f9b-a6b5-39125ff50007"
      },
      "outputs": [
        {
          "output_type": "execute_result",
          "data": {
            "text/plain": [
              "array([[0.81245386, 0.04388986, 0.37447937, 0.94127236, 0.64809   ,\n",
              "        0.78528272],\n",
              "       [0.81309549, 0.97620535, 0.47450612, 0.05850021, 0.43804791,\n",
              "        0.45740487]])"
            ]
          },
          "metadata": {},
          "execution_count": 30
        }
      ],
      "source": [
        "# 実行して表示\n",
        "arr4"
      ]
    },
    {
      "cell_type": "markdown",
      "id": "9a5af0b4",
      "metadata": {
        "id": "9a5af0b4"
      },
      "source": [
        "Exercise_10 : 平均が 0、標準偏差が 1 で、正規分布に従う値を持つ3行4列の配列を作成してください （arr5）"
      ]
    },
    {
      "cell_type": "code",
      "execution_count": null,
      "id": "06cc2179",
      "metadata": {
        "id": "06cc2179"
      },
      "outputs": [],
      "source": [
        "arr5 = np.random.randn(3,4)"
      ]
    },
    {
      "cell_type": "markdown",
      "id": "24f50ec5",
      "metadata": {
        "id": "24f50ec5"
      },
      "source": [
        "<details>\n",
        "    <summary><font color='red'>解答はここをクリック</font></summary>\n",
        "    <code>arr5 = np.random.randn(3, 4)</code>\n",
        "</details>"
      ]
    },
    {
      "cell_type": "code",
      "execution_count": null,
      "id": "8c6e5137",
      "metadata": {
        "colab": {
          "base_uri": "https://localhost:8080/"
        },
        "id": "8c6e5137",
        "outputId": "7ac0f6ec-2bec-4e73-95a4-bfcd66c4a00c"
      },
      "outputs": [
        {
          "output_type": "execute_result",
          "data": {
            "text/plain": [
              "array([[ 0.2483625 ,  0.63304972,  1.59643345,  0.64850331],\n",
              "       [-1.09230412,  0.52960445, -1.69845196,  0.5224056 ],\n",
              "       [-0.16761865,  0.49508868, -0.30579082, -0.04139909]])"
            ]
          },
          "metadata": {},
          "execution_count": 32
        }
      ],
      "source": [
        "# 実行して表示\n",
        "arr5"
      ]
    },
    {
      "cell_type": "markdown",
      "id": "bf221ee6",
      "metadata": {
        "id": "bf221ee6"
      },
      "source": [
        "Exercise_11 : arr5 の全要素での、最大値、最小値、平均を確認してください（max_arr5, min_arr5, mean_arr5）"
      ]
    },
    {
      "cell_type": "code",
      "execution_count": null,
      "id": "820580ff",
      "metadata": {
        "colab": {
          "base_uri": "https://localhost:8080/"
        },
        "id": "820580ff",
        "outputId": "f0b365ae-b573-46c9-b41b-030a30f0191c"
      },
      "outputs": [
        {
          "output_type": "stream",
          "name": "stdout",
          "text": [
            "max : 1.5964334462237024, min : -1.6984519583505582, mean : 0.11399025582009664\n"
          ]
        }
      ],
      "source": [
        "max_arr5 = arr5.max()\n",
        "min_arr5 = arr5.min()\n",
        "mean_arr5 = arr5.mean()\n",
        "print(f'max : {max_arr5}, min : {min_arr5}, mean : {mean_arr5}')\n",
        "# 各行ではなく、全体の最大などを取得していることに注意"
      ]
    },
    {
      "cell_type": "markdown",
      "id": "6ebb184d",
      "metadata": {
        "id": "6ebb184d"
      },
      "source": [
        "<details>\n",
        "    <summary><font color='red'>解答はここをクリック</font></summary>\n",
        "    <code>max_arr5 = arr5.max()</code><br>\n",
        "    <code>min_arr5 = arr5.min()</code><br>\n",
        "    <code>mean_arr5 = arr5.mean()</code>\n",
        "</details>"
      ]
    },
    {
      "cell_type": "markdown",
      "id": "a199d105",
      "metadata": {
        "id": "a199d105"
      },
      "source": [
        "Exercise_12: 平均が 100、標準偏差が 10 で、正規分布に従う値を持つ3行4列の配列を作成してください （arr6）"
      ]
    },
    {
      "cell_type": "code",
      "execution_count": null,
      "id": "82bbe7a7",
      "metadata": {
        "id": "82bbe7a7"
      },
      "outputs": [],
      "source": [
        "arr6 = np.random.normal(100,10,(3,4))"
      ]
    },
    {
      "cell_type": "markdown",
      "id": "153bd31f",
      "metadata": {
        "id": "153bd31f"
      },
      "source": [
        "<details>\n",
        "    <summary><font color='red'>解答はここをクリック</font></summary>\n",
        "    <code>arr6 = np.random.normal(100, 10, (3, 4))</code>\n",
        "</details>"
      ]
    },
    {
      "cell_type": "code",
      "execution_count": null,
      "id": "ee3f64ca",
      "metadata": {
        "colab": {
          "base_uri": "https://localhost:8080/"
        },
        "id": "ee3f64ca",
        "outputId": "0b77b3b0-8c00-49d0-9fbc-2441bb4e0c1c"
      },
      "outputs": [
        {
          "output_type": "execute_result",
          "data": {
            "text/plain": [
              "array([[113.94640363,  90.17882487,  86.20955692, 124.19755842],\n",
              "       [ 87.73291796,  93.88468544, 100.39093912,  87.38793095],\n",
              "       [ 98.92066995, 105.68179819,  90.52180737, 110.96259819]])"
            ]
          },
          "metadata": {},
          "execution_count": 36
        }
      ],
      "source": [
        "# 実行して表示\n",
        "arr6"
      ]
    },
    {
      "cell_type": "markdown",
      "id": "8abf28a2",
      "metadata": {
        "id": "8abf28a2"
      },
      "source": [
        "Exercise_13 : 10 以上 30 未満の値を持つ連続一様分布の3行4列の配列を作成してください （arr7）。また要素全体の平均値が20付近にあることを平均値を求めることで確認してください。"
      ]
    },
    {
      "cell_type": "code",
      "execution_count": null,
      "id": "dc9bd913",
      "metadata": {
        "id": "dc9bd913"
      },
      "outputs": [],
      "source": [
        "arr7 = np.random.uniform(10,30,(3,4))"
      ]
    },
    {
      "cell_type": "markdown",
      "id": "88422fea",
      "metadata": {
        "id": "88422fea"
      },
      "source": [
        "<details>\n",
        "    <summary><font color='red'>解答はここをクリック</font></summary>\n",
        "    <code>arr7 = np.random.uniform(10, 30, (3, 4))</code>\n",
        "</details>"
      ]
    },
    {
      "cell_type": "code",
      "execution_count": null,
      "id": "4aaf911d",
      "metadata": {
        "colab": {
          "base_uri": "https://localhost:8080/"
        },
        "id": "4aaf911d",
        "outputId": "37310237-47d4-451b-d556-a6b5750efad3"
      },
      "outputs": [
        {
          "output_type": "execute_result",
          "data": {
            "text/plain": [
              "array([[19.21738324, 18.90087006, 27.41402367, 26.21494597],\n",
              "       [20.6411875 , 28.54100218, 17.32156308, 22.87807669],\n",
              "       [26.01406799, 18.86671937, 17.50213914, 23.39248048]])"
            ]
          },
          "metadata": {},
          "execution_count": 38
        }
      ],
      "source": [
        "# 実行して表示\n",
        "arr7"
      ]
    },
    {
      "cell_type": "code",
      "execution_count": null,
      "id": "d221c0e0",
      "metadata": {
        "colab": {
          "base_uri": "https://localhost:8080/"
        },
        "id": "d221c0e0",
        "outputId": "9071c873-9b67-44f6-8d88-9de79ae0074c"
      },
      "outputs": [
        {
          "output_type": "execute_result",
          "data": {
            "text/plain": [
              "22.242038280658633"
            ]
          },
          "metadata": {},
          "execution_count": 39
        }
      ],
      "source": [
        "# 平均値を求める\n",
        "arr7.mean()\n",
        "# 20前後の値ならばOK"
      ]
    },
    {
      "cell_type": "markdown",
      "id": "7e9aec6d",
      "metadata": {
        "id": "7e9aec6d"
      },
      "source": [
        "<details>\n",
        "    <summary><font color='red'>解答はここをクリック</font></summary>\n",
        "    <code>arr7.mean()</code>\n",
        "</details>"
      ]
    },
    {
      "cell_type": "markdown",
      "id": "e57b450a",
      "metadata": {
        "id": "e57b450a"
      },
      "source": [
        "Exercise_14 : arr7 の数値をすべて小数第4位で四捨五入した小数3桁の値に変換してください(arr7_3decimal)"
      ]
    },
    {
      "cell_type": "code",
      "execution_count": null,
      "id": "0c47f000",
      "metadata": {
        "id": "0c47f000"
      },
      "outputs": [],
      "source": [
        "arr7_3decimal = np.round(arr7,3)"
      ]
    },
    {
      "cell_type": "markdown",
      "id": "a874e4dc",
      "metadata": {
        "id": "a874e4dc"
      },
      "source": [
        "<details>\n",
        "    <summary><font color='red'>解答はここをクリック</font></summary>\n",
        "    <code>arr1_3decimal = np.round(arr7, 3)</code>\n",
        "</details>"
      ]
    },
    {
      "cell_type": "code",
      "execution_count": null,
      "id": "3fcecd15",
      "metadata": {
        "colab": {
          "base_uri": "https://localhost:8080/"
        },
        "id": "3fcecd15",
        "outputId": "bcc766d0-c235-4344-b5ce-e1413c9ff8d1"
      },
      "outputs": [
        {
          "output_type": "execute_result",
          "data": {
            "text/plain": [
              "array([[19.217, 18.901, 27.414, 26.215],\n",
              "       [20.641, 28.541, 17.322, 22.878],\n",
              "       [26.014, 18.867, 17.502, 23.392]])"
            ]
          },
          "metadata": {},
          "execution_count": 44
        }
      ],
      "source": [
        "# 実行して表示\n",
        "arr7_3decimal"
      ]
    },
    {
      "cell_type": "markdown",
      "id": "57f0424d",
      "metadata": {
        "id": "57f0424d"
      },
      "source": [
        "Exercise_15: リスト lis の文字をランダムに10個持つ1次元の配列を作成し（arr8）、データタイプを object に変更してください"
      ]
    },
    {
      "cell_type": "code",
      "execution_count": null,
      "id": "b336af72",
      "metadata": {
        "id": "b336af72"
      },
      "outputs": [],
      "source": [
        "# リストを作成\n",
        "lis = list('GOOD!')   # ['G', 'O', 'O', 'D', '!']\n",
        "arr8 = np.random.choice(lis, 10)"
      ]
    },
    {
      "cell_type": "markdown",
      "id": "468ec8cc",
      "metadata": {
        "id": "468ec8cc"
      },
      "source": [
        "<details>\n",
        "    <summary><font color='red'>解答はここをクリック</font></summary>\n",
        "    <code>arr8 = np.random.choice(lis, 10)</code>\n",
        "</details>"
      ]
    },
    {
      "cell_type": "code",
      "execution_count": null,
      "id": "ab2ff6a4",
      "metadata": {
        "colab": {
          "base_uri": "https://localhost:8080/"
        },
        "id": "ab2ff6a4",
        "outputId": "3cfdd19f-11a1-4b2b-9cc4-70f40616303c"
      },
      "outputs": [
        {
          "output_type": "execute_result",
          "data": {
            "text/plain": [
              "array(['G', 'D', 'D', '!', '!', '!', 'O', 'O', 'D', '!'], dtype='<U1')"
            ]
          },
          "metadata": {},
          "execution_count": 46
        }
      ],
      "source": [
        "# 実行して表示\n",
        "arr8"
      ]
    },
    {
      "cell_type": "code",
      "execution_count": null,
      "id": "3921a5c2",
      "metadata": {
        "id": "3921a5c2"
      },
      "outputs": [],
      "source": [
        "# データタイプを変更\n",
        "arr8 = arr8.astype(object)"
      ]
    },
    {
      "cell_type": "markdown",
      "id": "4329d941",
      "metadata": {
        "id": "4329d941"
      },
      "source": [
        "<details>\n",
        "    <summary><font color='red'>解答はここをクリック</font></summary>\n",
        "    <code>arr8 = arr8.astype(object)</code>\n",
        "</details>"
      ]
    },
    {
      "cell_type": "code",
      "execution_count": null,
      "id": "bd91e8dc",
      "metadata": {
        "colab": {
          "base_uri": "https://localhost:8080/"
        },
        "id": "bd91e8dc",
        "outputId": "ce8dcb82-a8a0-4e35-d2ba-6a92db7ed655"
      },
      "outputs": [
        {
          "output_type": "execute_result",
          "data": {
            "text/plain": [
              "array(['G', 'D', 'D', '!', '!', '!', 'O', 'O', 'D', '!'], dtype=object)"
            ]
          },
          "metadata": {},
          "execution_count": 48
        }
      ],
      "source": [
        "# 実行して表示\n",
        "arr8"
      ]
    },
    {
      "cell_type": "markdown",
      "id": "15c2c0f0",
      "metadata": {
        "id": "15c2c0f0"
      },
      "source": [
        "Exercise_16 : 次のarr9のデータタイプが 'int32' であることを確認し、その後データタイプを 'float' に変更してください"
      ]
    },
    {
      "cell_type": "code",
      "execution_count": null,
      "id": "0a9fbb94",
      "metadata": {
        "colab": {
          "base_uri": "https://localhost:8080/"
        },
        "id": "0a9fbb94",
        "outputId": "13a484a6-2379-4e6d-f828-47ddb70aada9"
      },
      "outputs": [
        {
          "output_type": "execute_result",
          "data": {
            "text/plain": [
              "dtype('int64')"
            ]
          },
          "metadata": {},
          "execution_count": 50
        }
      ],
      "source": [
        "# dtypeの確認\n",
        "arr9 = np.array([1, 3, 5, 7, 9])\n",
        "arr9.dtype"
      ]
    },
    {
      "cell_type": "markdown",
      "id": "e17fe8ae",
      "metadata": {
        "id": "e17fe8ae"
      },
      "source": [
        "<details>\n",
        "    <summary><font color='red'>解答はここをクリック</font></summary>\n",
        "    <code>arr9.dtype</code>\n",
        "</details>"
      ]
    },
    {
      "cell_type": "code",
      "execution_count": null,
      "id": "00b5b07b",
      "metadata": {
        "id": "00b5b07b"
      },
      "outputs": [],
      "source": [
        "# floatに変更\n",
        "arr9 = arr9.astype('float')"
      ]
    },
    {
      "cell_type": "markdown",
      "id": "df29d022",
      "metadata": {
        "id": "df29d022"
      },
      "source": [
        "<details>\n",
        "    <summary><font color='red'>解答はここをクリック</font></summary>\n",
        "    <code>arr9.astype(float)</code><br>\n",
        "</details>"
      ]
    },
    {
      "cell_type": "code",
      "execution_count": null,
      "id": "113a3834",
      "metadata": {
        "colab": {
          "base_uri": "https://localhost:8080/"
        },
        "id": "113a3834",
        "outputId": "3e4eb58c-f2ab-4e0c-9003-86dd80b19ddc"
      },
      "outputs": [
        {
          "output_type": "execute_result",
          "data": {
            "text/plain": [
              "array([1., 3., 5., 7., 9.])"
            ]
          },
          "metadata": {},
          "execution_count": 52
        }
      ],
      "source": [
        "# 実行して表示\n",
        "arr9"
      ]
    },
    {
      "cell_type": "markdown",
      "id": "32c7c877",
      "metadata": {
        "id": "32c7c877"
      },
      "source": [
        "Exercise_17 : 配列arr10の分散と標準偏差を「計算して」求めてください。また、メソッドを用いてその値が正しいことを確認してください。"
      ]
    },
    {
      "cell_type": "code",
      "execution_count": null,
      "id": "11e9d1c1",
      "metadata": {
        "colab": {
          "base_uri": "https://localhost:8080/"
        },
        "id": "11e9d1c1",
        "outputId": "da869338-ae2e-443d-f2d1-fa4da272ce35"
      },
      "outputs": [
        {
          "output_type": "execute_result",
          "data": {
            "text/plain": [
              "array([1, 6, 6, 9, 0])"
            ]
          },
          "metadata": {},
          "execution_count": 53
        }
      ],
      "source": [
        "# 実行して表示\n",
        "np.random.seed(17)\n",
        "arr10 = np.random.randint(0, 10, 5)\n",
        "arr10"
      ]
    },
    {
      "cell_type": "code",
      "execution_count": null,
      "id": "3308c63d",
      "metadata": {
        "colab": {
          "base_uri": "https://localhost:8080/"
        },
        "id": "3308c63d",
        "outputId": "50a1aa30-7318-40f1-eee5-7e0d749a3aeb"
      },
      "outputs": [
        {
          "output_type": "execute_result",
          "data": {
            "text/plain": [
              "4.4"
            ]
          },
          "metadata": {},
          "execution_count": 54
        }
      ],
      "source": [
        "# 実行して表示\n",
        "mean = arr10.mean()\n",
        "mean"
      ]
    },
    {
      "cell_type": "code",
      "execution_count": null,
      "id": "c6bcb70f",
      "metadata": {
        "colab": {
          "base_uri": "https://localhost:8080/"
        },
        "id": "c6bcb70f",
        "outputId": "8d043d76-974e-418c-8354-624bb50d5ca8"
      },
      "outputs": [
        {
          "output_type": "execute_result",
          "data": {
            "text/plain": [
              "57.2"
            ]
          },
          "metadata": {},
          "execution_count": 57
        }
      ],
      "source": [
        "total = 0\n",
        "for i in arr10:\n",
        "    total += (i - mean)**2\n",
        "total"
      ]
    },
    {
      "cell_type": "markdown",
      "id": "8a520924",
      "metadata": {
        "id": "8a520924"
      },
      "source": [
        "<details>\n",
        "    <summary><font color='red'>解答はここをクリック</font></summary>\n",
        "    <code>total += (i - mean)**2</code><br>\n",
        "</details>"
      ]
    },
    {
      "cell_type": "code",
      "execution_count": null,
      "id": "a0fa05f1",
      "metadata": {
        "colab": {
          "base_uri": "https://localhost:8080/"
        },
        "id": "a0fa05f1",
        "outputId": "97b6525c-c981-42bb-a89a-c30bce34960d"
      },
      "outputs": [
        {
          "output_type": "execute_result",
          "data": {
            "text/plain": [
              "11.440000000000001"
            ]
          },
          "metadata": {},
          "execution_count": 59
        }
      ],
      "source": [
        "variance = total / len(arr10)\n",
        "# 実行して表示\n",
        "variance"
      ]
    },
    {
      "cell_type": "markdown",
      "id": "587b30df",
      "metadata": {
        "id": "587b30df"
      },
      "source": [
        "<details>\n",
        "    <summary><font color='red'>解答はここをクリック</font></summary>\n",
        "    <code>variance = total / len(arr10)</code><br>\n",
        "</details>"
      ]
    },
    {
      "cell_type": "code",
      "execution_count": null,
      "id": "47fd43f8",
      "metadata": {
        "colab": {
          "base_uri": "https://localhost:8080/"
        },
        "id": "47fd43f8",
        "outputId": "28f7aa99-504f-4c1a-801b-57b9be9be520"
      },
      "outputs": [
        {
          "output_type": "execute_result",
          "data": {
            "text/plain": [
              "3.3823069050575527"
            ]
          },
          "metadata": {},
          "execution_count": 60
        }
      ],
      "source": [
        "standard_deviation = np.sqrt(variance)\n",
        "# 実行して表示\n",
        "standard_deviation"
      ]
    },
    {
      "cell_type": "markdown",
      "id": "70112c0e",
      "metadata": {
        "id": "70112c0e"
      },
      "source": [
        "<details>\n",
        "    <summary><font color='red'>解答はここをクリック</font></summary>\n",
        "    <code>standard_deviation = np.sqrt(variance)</code><br>\n",
        "</details>"
      ]
    },
    {
      "cell_type": "code",
      "execution_count": null,
      "id": "91cad85e",
      "metadata": {
        "colab": {
          "base_uri": "https://localhost:8080/"
        },
        "id": "91cad85e",
        "outputId": "6d4585df-abc6-4a75-eb25-df2394281482"
      },
      "outputs": [
        {
          "output_type": "execute_result",
          "data": {
            "text/plain": [
              "11.440000000000001"
            ]
          },
          "metadata": {},
          "execution_count": 61
        }
      ],
      "source": [
        "# メソッドを使って分散を求める\n",
        "arr10.var()"
      ]
    },
    {
      "cell_type": "markdown",
      "id": "17f8a7c7",
      "metadata": {
        "id": "17f8a7c7"
      },
      "source": [
        "<details>\n",
        "    <summary><font color='red'>解答はここをクリック</font></summary>\n",
        "    <code>arr10.var()</code><br>\n",
        "</details>"
      ]
    },
    {
      "cell_type": "code",
      "execution_count": null,
      "id": "8180431a",
      "metadata": {
        "colab": {
          "base_uri": "https://localhost:8080/"
        },
        "id": "8180431a",
        "outputId": "5c6eab67-6ab5-4ea2-c0fb-2c997527490e"
      },
      "outputs": [
        {
          "output_type": "execute_result",
          "data": {
            "text/plain": [
              "3.3823069050575527"
            ]
          },
          "metadata": {},
          "execution_count": 62
        }
      ],
      "source": [
        "# メソッドを使って標準偏差を求める\n",
        "arr10.std()"
      ]
    },
    {
      "cell_type": "markdown",
      "id": "6d925bab",
      "metadata": {
        "id": "6d925bab"
      },
      "source": [
        "<details>\n",
        "    <summary><font color='red'>解答はここをクリック</font></summary>\n",
        "    <code>arr10.std()</code><br>\n",
        "</details>"
      ]
    },
    {
      "cell_type": "markdown",
      "id": "d740947c",
      "metadata": {
        "id": "d740947c"
      },
      "source": [
        "## 以上"
      ]
    }
  ],
  "metadata": {
    "kernelspec": {
      "display_name": "Python 3",
      "language": "python",
      "name": "python3"
    },
    "language_info": {
      "codemirror_mode": {
        "name": "ipython",
        "version": 3
      },
      "file_extension": ".py",
      "mimetype": "text/x-python",
      "name": "python",
      "nbconvert_exporter": "python",
      "pygments_lexer": "ipython3",
      "version": "3.7.10"
    },
    "colab": {
      "provenance": [],
      "include_colab_link": true
    }
  },
  "nbformat": 4,
  "nbformat_minor": 5
}